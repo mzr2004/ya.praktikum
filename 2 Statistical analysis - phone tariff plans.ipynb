{
 "cells": [
  {
   "cell_type": "markdown",
   "metadata": {},
   "source": [
    "## Шаг 1: открываем и изучаем данные"
   ]
  },
  {
   "cell_type": "code",
   "execution_count": 9,
   "metadata": {},
   "outputs": [],
   "source": [
    "#импортирую библиотеки для дальнейшей работы\n",
    "import pandas as pd\n",
    "from scipy import stats as st\n",
    "import numpy as np\n",
    "import matplotlib.pyplot as plt\n",
    "from IPython.display import display\n",
    "import math"
   ]
  },
  {
   "cell_type": "code",
   "execution_count": 15,
   "metadata": {},
   "outputs": [],
   "source": [
    "#импортируем вводные данные\n",
    "data_calls = pd.read_csv('/datasets/calls.csv')\n",
    "data_internet = pd.read_csv('/datasets/internet.csv')\n",
    "data_messages = pd.read_csv('/datasets/messages.csv')\n",
    "data_tariffs = pd.read_csv('/datasets/tariffs.csv')\n",
    "data_users = pd.read_csv('/datasets/users.csv')"
   ]
  },
  {
   "cell_type": "code",
   "execution_count": 95,
   "metadata": {},
   "outputs": [
    {
     "data": {
      "text/plain": [
       "'\\ndisplay(\\ndata_calls,\\ndata_internet,\\ndata_messages,\\ndata_tariffs,\\ndata_users)\\n'"
      ]
     },
     "execution_count": 95,
     "metadata": {},
     "output_type": "execute_result"
    }
   ],
   "source": [
    "#проверяем импортировались ли таблицы из *.csv корректно\n",
    "#тройные кавычки, чтобы вывод не занимал место на экране - уберите, чтобы постомтреть на таблицы\n",
    "\"\"\"\n",
    "display(\n",
    "data_calls,\n",
    "data_internet,\n",
    "data_messages,\n",
    "data_tariffs,\n",
    "data_users)\n",
    "\"\"\""
   ]
  },
  {
   "cell_type": "code",
   "execution_count": 96,
   "metadata": {},
   "outputs": [
    {
     "name": "stdout",
     "output_type": "stream",
     "text": [
      "<class 'pandas.core.frame.DataFrame'>\n",
      "RangeIndex: 202607 entries, 0 to 202606\n",
      "Data columns (total 4 columns):\n",
      "id           202607 non-null object\n",
      "call_date    202607 non-null object\n",
      "duration     202607 non-null float64\n",
      "user_id      202607 non-null int64\n",
      "dtypes: float64(1), int64(1), object(2)\n",
      "memory usage: 6.2+ MB\n"
     ]
    }
   ],
   "source": [
    "#проверяю данные в таблицах на наличие пропусков и соотвествие типам данных\n",
    "data_calls.info()"
   ]
  },
  {
   "cell_type": "markdown",
   "metadata": {},
   "source": [
    "__Таблица `data_calls`, необходимо привести даты к правильному формату__"
   ]
  },
  {
   "cell_type": "code",
   "execution_count": 97,
   "metadata": {},
   "outputs": [
    {
     "name": "stdout",
     "output_type": "stream",
     "text": [
      "<class 'pandas.core.frame.DataFrame'>\n",
      "RangeIndex: 149396 entries, 0 to 149395\n",
      "Data columns (total 5 columns):\n",
      "Unnamed: 0      149396 non-null int64\n",
      "id              149396 non-null object\n",
      "mb_used         149396 non-null float64\n",
      "session_date    149396 non-null object\n",
      "user_id         149396 non-null int64\n",
      "dtypes: float64(1), int64(2), object(2)\n",
      "memory usage: 5.7+ MB\n"
     ]
    }
   ],
   "source": [
    "data_internet.info()"
   ]
  },
  {
   "cell_type": "markdown",
   "metadata": {},
   "source": [
    "__Таблица `data_internet`, выяснить что за продублированный стоблец без названия и привести дату к правильному формату__"
   ]
  },
  {
   "cell_type": "code",
   "execution_count": 98,
   "metadata": {},
   "outputs": [
    {
     "name": "stdout",
     "output_type": "stream",
     "text": [
      "<class 'pandas.core.frame.DataFrame'>\n",
      "RangeIndex: 123036 entries, 0 to 123035\n",
      "Data columns (total 3 columns):\n",
      "id              123036 non-null object\n",
      "message_date    123036 non-null object\n",
      "user_id         123036 non-null int64\n",
      "dtypes: int64(1), object(2)\n",
      "memory usage: 2.8+ MB\n"
     ]
    }
   ],
   "source": [
    "data_messages.info()"
   ]
  },
  {
   "cell_type": "markdown",
   "metadata": {},
   "source": [
    "__Таблица `data_messages`, привести дату к правильному формату и также выходит потенциальная проблема, что во всех таблицах уникальный номер называется id, потребуется переименовать, например в `messages_id`__"
   ]
  },
  {
   "cell_type": "code",
   "execution_count": 99,
   "metadata": {},
   "outputs": [
    {
     "name": "stdout",
     "output_type": "stream",
     "text": [
      "<class 'pandas.core.frame.DataFrame'>\n",
      "RangeIndex: 2 entries, 0 to 1\n",
      "Data columns (total 8 columns):\n",
      "messages_included        2 non-null int64\n",
      "mb_per_month_included    2 non-null int64\n",
      "minutes_included         2 non-null int64\n",
      "rub_monthly_fee          2 non-null int64\n",
      "rub_per_gb               2 non-null int64\n",
      "rub_per_message          2 non-null int64\n",
      "rub_per_minute           2 non-null int64\n",
      "tariff_name              2 non-null object\n",
      "dtypes: int64(7), object(1)\n",
      "memory usage: 256.0+ bytes\n"
     ]
    }
   ],
   "source": [
    "data_tariffs.info()"
   ]
  },
  {
   "cell_type": "markdown",
   "metadata": {},
   "source": [
    "__Таблица `data_tariffs`, 2 тарифа, типы данных верные на первый взгляд, возможно стоит сделать названия тарифов индексами таблицы, пока не знаю пригодится ли__"
   ]
  },
  {
   "cell_type": "code",
   "execution_count": 100,
   "metadata": {},
   "outputs": [
    {
     "name": "stdout",
     "output_type": "stream",
     "text": [
      "<class 'pandas.core.frame.DataFrame'>\n",
      "RangeIndex: 500 entries, 0 to 499\n",
      "Data columns (total 8 columns):\n",
      "user_id       500 non-null int64\n",
      "age           500 non-null int64\n",
      "churn_date    38 non-null object\n",
      "city          500 non-null object\n",
      "first_name    500 non-null object\n",
      "last_name     500 non-null object\n",
      "reg_date      500 non-null object\n",
      "tariff        500 non-null object\n",
      "dtypes: int64(2), object(6)\n",
      "memory usage: 31.4+ KB\n"
     ]
    }
   ],
   "source": [
    "data_users.info()"
   ]
  },
  {
   "cell_type": "code",
   "execution_count": 101,
   "metadata": {},
   "outputs": [
    {
     "data": {
      "text/plain": [
       "array(['Архангельск', 'Астрахань', 'Балашиха', 'Барнаул', 'Белгород',\n",
       "       'Брянск', 'Владивосток', 'Владикавказ', 'Владимир', 'Волгоград',\n",
       "       'Волжский', 'Вологда', 'Воронеж', 'Грозный', 'Екатеринбург',\n",
       "       'Иваново', 'Ижевск', 'Иркутск', 'Казань', 'Калининград', 'Калуга',\n",
       "       'Кемерово', 'Киров', 'Кострома', 'Краснодар', 'Красноярск',\n",
       "       'Курган', 'Курск', 'Липецк', 'Магнитогорск', 'Махачкала', 'Москва',\n",
       "       'Мурманск', 'Набережные Челны', 'Нижневартовск', 'Нижний Новгород',\n",
       "       'Нижний Тагил', 'Новокузнецк', 'Новороссийск', 'Новосибирск',\n",
       "       'Омск', 'Оренбург', 'Орёл', 'Пенза', 'Пермь', 'Петрозаводск',\n",
       "       'Подольск', 'Ростов-на-Дону', 'Рязань', 'Самара',\n",
       "       'Санкт-Петербург', 'Саранск', 'Саратов', 'Севастополь', 'Смоленск',\n",
       "       'Сочи', 'Ставрополь', 'Стерлитамак', 'Сургут', 'Тамбов', 'Тверь',\n",
       "       'Тольятти', 'Томск', 'Тула', 'Тюмень', 'Улан-Удэ', 'Ульяновск',\n",
       "       'Уфа', 'Хабаровск', 'Химки', 'Чебоксары', 'Челябинск', 'Череповец',\n",
       "       'Чита', 'Якутск', 'Ярославль'], dtype=object)"
      ]
     },
     "metadata": {},
     "output_type": "display_data"
    }
   ],
   "source": [
    "#проверяю как написаны города\n",
    "display(data_users['city'].sort_values().unique())"
   ]
  },
  {
   "cell_type": "markdown",
   "metadata": {},
   "source": [
    "__Таблица `data_users`, снова даты в не верных форматах, но города указаны правильно, без дублей__"
   ]
  },
  {
   "cell_type": "markdown",
   "metadata": {},
   "source": [
    "### Вывод:\n",
    "1. Почти в каждой таблице необходимо изменить формат данных по датам (подключения, звонка и т.п) на формат \"дата\".\n",
    "1. В таблице `data_internet` есть лишний столбец дублирующй индексы.\n",
    "1. Города, в которых проживают клиенты написаны уникальным образом - лемматизация не потребуется.\n",
    "1. В задаче было отмечено, что в таблице `data_calls` присутствуют нулевые значения, подразумеваю, что аналог NaN, который необходимо будет заменить на что-то логичное. Также проверю наличие таких нулей в других таблицах.\n"
   ]
  },
  {
   "cell_type": "markdown",
   "metadata": {},
   "source": [
    "### План:\n",
    "1. От нас требуется в аналитической части оценить ежемесячные потребности в связи клиентов компании \"Мегалайн\" и выручку приходящуюся на клиентов.\n",
    "1. Начнем с предобработки описанной выше в выводе.\n",
    "1. После-предобработки думаю, что не стоит объединять все таблицы вместе - лучше их анализировать по отдельности, поскольку например клиент мог совершать звонки в опредленный период, но не совершать выходы в интернет, а значит данные нужно объединять методом \"outer join\", что подразумевает перемножение всех на всех. Либо объединять стоит уже по сложному индексу [month, user_id].\n",
    "1. После такого объединения можно будет посчитать выручку и ответить на вопросы проекта."
   ]
  },
  {
   "cell_type": "markdown",
   "metadata": {},
   "source": [
    "## Шаг 2: Подготавливаем данные:\n",
    "* Приводим к нужным типам\n",
    "* Исправляем ошибки"
   ]
  },
  {
   "cell_type": "markdown",
   "metadata": {},
   "source": [
    "__Приводим к правильному типу данные о датах в каждой таблице, где это релевантно__"
   ]
  },
  {
   "cell_type": "code",
   "execution_count": 102,
   "metadata": {},
   "outputs": [],
   "source": [
    "data_calls['call_date'] = pd.to_datetime(data_calls['call_date'], format='%Y-%m-%d')\n",
    "data_internet['session_date'] = pd.to_datetime(data_internet['session_date'], format='%Y-%m-%d')\n",
    "data_messages['message_date'] = pd.to_datetime(data_messages['message_date'], format='%Y-%m-%d')\n",
    "data_users['reg_date'] = pd.to_datetime(data_users['reg_date'], format='%Y-%m-%d')"
   ]
  },
  {
   "cell_type": "code",
   "execution_count": 103,
   "metadata": {},
   "outputs": [],
   "source": [
    "#отделяю месяц звонка, интернет запроса и т.д.\n",
    "data_calls['call_month'] = data_calls['call_date'].dt.month\n",
    "data_calls['call_day'] = data_calls['call_date'].dt.day #вывожу день звонка, чтобы оценить наличие нулей в определенные дни месяца\n",
    "data_messages['message_month'] = data_messages['message_date'].dt.month\n",
    "data_internet['session_month'] = data_internet['session_date'].dt.month\n",
    "data_users['reg_month'] = data_users['reg_date'].dt.month"
   ]
  },
  {
   "cell_type": "markdown",
   "metadata": {},
   "source": [
    "__Исправляем ошибки__"
   ]
  },
  {
   "cell_type": "code",
   "execution_count": 104,
   "metadata": {},
   "outputs": [
    {
     "data": {
      "text/plain": [
       "149396"
      ]
     },
     "execution_count": 104,
     "metadata": {},
     "output_type": "execute_result"
    }
   ],
   "source": [
    "#колонка Unnamed - дублирует индексы\n",
    "(data_internet['Unnamed: 0'] == data_internet.index).sum()"
   ]
  },
  {
   "cell_type": "code",
   "execution_count": 105,
   "metadata": {},
   "outputs": [],
   "source": [
    "#Удаляю задублированный столбец в `data_internet`\n",
    "data_internet = data_internet.drop(columns='Unnamed: 0')"
   ]
  },
  {
   "cell_type": "code",
   "execution_count": 106,
   "metadata": {},
   "outputs": [
    {
     "name": "stdout",
     "output_type": "stream",
     "text": [
      "На каждого пользователя в среднем приходится 19.55% нулевых звонков.\n",
      "На каждого пользователя в среднем приходится 13.12% нулевых сессий в интернете.\n"
     ]
    }
   ],
   "source": [
    "#оцениваю сколько приходится звонков с нулевой длительностью в среднем на одного клиента и нулевыми сессиями в интернете\n",
    "print(\"На каждого пользователя в среднем приходится {:.2%} нулевых звонков.\".format(len(data_calls[data_calls['duration']==0])/len(data_calls)))\n",
    "print(\"На каждого пользователя в среднем приходится {:.2%} нулевых сессий в интернете.\".format(len(data_internet[data_internet['mb_used']==0])/len(data_internet)))\n"
   ]
  },
  {
   "cell_type": "code",
   "execution_count": 107,
   "metadata": {},
   "outputs": [],
   "source": [
    "#объединяю data_calls с data_users, чтобы понять присущи ли пропуски только какому-то одному тарифу\n",
    "#в финальной таблице все данные из calls и только тарифы из users\n",
    "data_calls_users = data_calls.merge(data_users, on='user_id', how='left')\n",
    "data_internet_users = data_internet.merge(data_users, on='user_id', how='left') #аналогично с данными по интернет трафику\n",
    "data_messages_users = data_messages.merge(data_users, on='user_id', how='left') #аналогично с данными по сообщениям\n",
    "#убираю лишние колонки\n",
    "data_calls_users = data_calls_users.drop(columns=['age','churn_date', 'city','first_name','last_name','reg_date','reg_month'])\n",
    "data_internet_users = data_internet_users.drop(columns=['age','churn_date', 'city','first_name','last_name','reg_date','reg_month']) \n",
    "data_messages_users = data_messages_users.drop(columns=['age','churn_date', 'city','first_name','last_name','reg_date','reg_month']) "
   ]
  },
  {
   "cell_type": "code",
   "execution_count": 108,
   "metadata": {},
   "outputs": [
    {
     "data": {
      "text/plain": [
       "tariff\n",
       "smart    25669\n",
       "ultra    13944\n",
       "Name: tariff, dtype: int64"
      ]
     },
     "execution_count": 108,
     "metadata": {},
     "output_type": "execute_result"
    }
   ],
   "source": [
    "#0.0 есть как у дешевого тарифа smart так и у дорогого ultra\n",
    "data_calls_users[data_calls_users['duration']==0].groupby('tariff')['tariff'].count()"
   ]
  },
  {
   "cell_type": "code",
   "execution_count": 109,
   "metadata": {},
   "outputs": [
    {
     "data": {
      "text/plain": [
       "user_id\n",
       "1000     75\n",
       "1001     30\n",
       "1002     44\n",
       "1003     92\n",
       "1004     37\n",
       "       ... \n",
       "1495     99\n",
       "1496    161\n",
       "1497     45\n",
       "1498     34\n",
       "1499     50\n",
       "Name: user_id, Length: 492, dtype: int64"
      ]
     },
     "execution_count": 109,
     "metadata": {},
     "output_type": "execute_result"
    }
   ],
   "source": [
    "#нули присущи почти всем пользователям, а не только какому-то одному пользователю\n",
    "data_calls_users[data_calls_users['duration']==0].groupby('user_id')['user_id'].count()"
   ]
  },
  {
   "cell_type": "code",
   "execution_count": 110,
   "metadata": {},
   "outputs": [
    {
     "data": {
      "text/html": [
       "<div>\n",
       "<style scoped>\n",
       "    .dataframe tbody tr th:only-of-type {\n",
       "        vertical-align: middle;\n",
       "    }\n",
       "\n",
       "    .dataframe tbody tr th {\n",
       "        vertical-align: top;\n",
       "    }\n",
       "\n",
       "    .dataframe thead th {\n",
       "        text-align: right;\n",
       "    }\n",
       "</style>\n",
       "<table border=\"1\" class=\"dataframe\">\n",
       "  <thead>\n",
       "    <tr style=\"text-align: right;\">\n",
       "      <th></th>\n",
       "      <th>duration</th>\n",
       "    </tr>\n",
       "    <tr>\n",
       "      <th>call_day</th>\n",
       "      <th></th>\n",
       "    </tr>\n",
       "  </thead>\n",
       "  <tbody>\n",
       "    <tr>\n",
       "      <td>1</td>\n",
       "      <td>1147</td>\n",
       "    </tr>\n",
       "    <tr>\n",
       "      <td>2</td>\n",
       "      <td>1188</td>\n",
       "    </tr>\n",
       "    <tr>\n",
       "      <td>3</td>\n",
       "      <td>1263</td>\n",
       "    </tr>\n",
       "    <tr>\n",
       "      <td>4</td>\n",
       "      <td>1182</td>\n",
       "    </tr>\n",
       "    <tr>\n",
       "      <td>5</td>\n",
       "      <td>1215</td>\n",
       "    </tr>\n",
       "  </tbody>\n",
       "</table>\n",
       "</div>"
      ],
      "text/plain": [
       "          duration\n",
       "call_day          \n",
       "1             1147\n",
       "2             1188\n",
       "3             1263\n",
       "4             1182\n",
       "5             1215"
      ]
     },
     "metadata": {},
     "output_type": "display_data"
    },
    {
     "data": {
      "text/html": [
       "<div>\n",
       "<style scoped>\n",
       "    .dataframe tbody tr th:only-of-type {\n",
       "        vertical-align: middle;\n",
       "    }\n",
       "\n",
       "    .dataframe tbody tr th {\n",
       "        vertical-align: top;\n",
       "    }\n",
       "\n",
       "    .dataframe thead th {\n",
       "        text-align: right;\n",
       "    }\n",
       "</style>\n",
       "<table border=\"1\" class=\"dataframe\">\n",
       "  <thead>\n",
       "    <tr style=\"text-align: right;\">\n",
       "      <th></th>\n",
       "      <th>duration</th>\n",
       "    </tr>\n",
       "    <tr>\n",
       "      <th>call_day</th>\n",
       "      <th></th>\n",
       "    </tr>\n",
       "  </thead>\n",
       "  <tbody>\n",
       "    <tr>\n",
       "      <td>27</td>\n",
       "      <td>1337</td>\n",
       "    </tr>\n",
       "    <tr>\n",
       "      <td>28</td>\n",
       "      <td>1371</td>\n",
       "    </tr>\n",
       "    <tr>\n",
       "      <td>29</td>\n",
       "      <td>1343</td>\n",
       "    </tr>\n",
       "    <tr>\n",
       "      <td>30</td>\n",
       "      <td>1368</td>\n",
       "    </tr>\n",
       "    <tr>\n",
       "      <td>31</td>\n",
       "      <td>835</td>\n",
       "    </tr>\n",
       "  </tbody>\n",
       "</table>\n",
       "</div>"
      ],
      "text/plain": [
       "          duration\n",
       "call_day          \n",
       "27            1337\n",
       "28            1371\n",
       "29            1343\n",
       "30            1368\n",
       "31             835"
      ]
     },
     "metadata": {},
     "output_type": "display_data"
    }
   ],
   "source": [
    "#нулевые значения бывают как в начале так и в конце месяца\n",
    "display(data_calls_users.query('duration == 0').pivot_table(index='call_day', values='duration', aggfunc='count').head())\n",
    "display(data_calls_users.query('duration == 0').pivot_table(index='call_day', values='duration', aggfunc='count').tail())"
   ]
  },
  {
   "cell_type": "markdown",
   "metadata": {},
   "source": [
    "__Найденные ошибки: в данных встречаются значения 0.0, как в данных о звонках, так и в данных о использовани трафика во время интернет сеанса.__\n",
    "\n",
    "Мое первоначальное предположение было, что 0.0 всего лишь означает, что где-то случайно \"округлились\" данные: например данные одного пользователя, тарифа или данные присущи только какому-то определенному месяцу или началу/концу месяца, однако это не так.\n",
    "\n",
    "Я полагаю, что нули своего рода технический сбой, который зафиксировал наличие факта события \"исходящий звонок\", но не смог правильно отследить/записать длительность. Попробую заменить эти 0.0 на обычные медианы каждого конкретного клиента, как если-бы это были NaN. Возникает вопрос - почему бы просто эти данные не удалить, однако перед нами стоит задача оценить количество сообщений, количество звонков и т.д. Наверно стоило бы уточнить у поставщика данных что означают эти 0.0 в реальности."
   ]
  },
  {
   "cell_type": "code",
   "execution_count": 111,
   "metadata": {},
   "outputs": [],
   "source": [
    "#пишу короткую функцию для замещения медианой\n",
    "#в таблице звонков\n",
    "def repl_median_in_table(row):\n",
    "    duration = row['duration']\n",
    "    median_call_duration = row['median_call_duration']\n",
    "    if duration == 0:\n",
    "        return(median_call_duration)\n",
    "    else:\n",
    "        return(duration)\n",
    "\n",
    "#в таблице по использованию интернет трафика\n",
    "def repl_median_in_table2(row):\n",
    "    mb_used = row['mb_used']\n",
    "    median_mb_used = row['median_mb_used']\n",
    "    if mb_used == 0:\n",
    "        return(median_mb_used)\n",
    "    else:\n",
    "        return(mb_used)"
   ]
  },
  {
   "cell_type": "code",
   "execution_count": 113,
   "metadata": {},
   "outputs": [],
   "source": [
    "#замена 0.0 на медианы по данным о звонках\n",
    "\n",
    "#высчитываю медианную продолжительность звонка по каждому клиенту\n",
    "data_calls_median_duration = data_calls_users.pivot_table(index='user_id', values='duration', aggfunc='median')\n",
    "#делаю срез в новом df, чтобы не испорить основной\n",
    "data_calls_new_index = data_calls.loc[:,['user_id','duration']]\n",
    "#присваиваю новый индекс, чтобы можно было потом сделать замену нулей на медиану \n",
    "data_calls_new_index.set_index('user_id', inplace=True)\n",
    "#в новый столбец записываю все найденные медианы длительности звонков - подтягивается по индексу\n",
    "data_calls_new_index['median_call_duration'] = data_calls_median_duration['duration']\n",
    "#меняем на привычный индекс от 0 до 202606\n",
    "data_calls_new_index.reset_index(drop=True, inplace=True)\n",
    "#записываем медиану в основную таблицу\n",
    "data_calls_users['median_call_duration'] = data_calls_new_index['median_call_duration']\n",
    "#замещаем 0.0 на медианы\n",
    "data_calls_users['duration'] = data_calls_users.apply(repl_median_in_table, axis=1)\n",
    "#альтернативная формула ниже работает не так как мне нужно... не знаю почему\n",
    "#data_calls_users['duration'] = data_calls_users['duration'].apply(lambda x: data_calls_users['median_call_duration'].loc[x] if x==0 else x)"
   ]
  },
  {
   "cell_type": "code",
   "execution_count": 114,
   "metadata": {},
   "outputs": [],
   "source": [
    "#замена 0.0 на медианы по данным о интернет сеансах\n",
    "data_internet_median_duration = data_internet_users.pivot_table(index='user_id', values='mb_used', aggfunc='median')\n",
    "data_internet_new_index = data_internet.loc[:,['user_id','mb_used']]\n",
    "data_internet_new_index.set_index('user_id', inplace=True)\n",
    "data_internet_new_index['median_mb_used'] = data_internet_median_duration['mb_used']\n",
    "data_internet_new_index.reset_index(drop=True, inplace=True)\n",
    "data_internet_users['median_mb_used'] = data_internet_new_index['median_mb_used']\n",
    "data_internet_users['mb_used'] = data_internet_users.apply(repl_median_in_table2, axis=1)"
   ]
  },
  {
   "cell_type": "markdown",
   "metadata": {},
   "source": [
    "__Проанализируем поведение клиентов: подсчитаю как менялось количество пользователей по каждому тарифу__"
   ]
  },
  {
   "cell_type": "code",
   "execution_count": 115,
   "metadata": {},
   "outputs": [
    {
     "data": {
      "text/plain": [
       "<matplotlib.axes._subplots.AxesSubplot at 0x7f1bf7dfb1d0>"
      ]
     },
     "execution_count": 115,
     "metadata": {},
     "output_type": "execute_result"
    },
    {
     "data": {
      "image/png": "[encoded data removed]",
      "text/plain": [
       "<Figure size 432x288 with 1 Axes>"
      ]
     },
     "metadata": {
      "needs_background": "light"
     },
     "output_type": "display_data"
    }
   ],
   "source": [
    "(data_users\n",
    "            .pivot_table(index='reg_month', columns='tariff', values='user_id', aggfunc='count')\n",
    "            .plot(title='Прирост новых пользователей тарифов по месяцам 2018 года')\n",
    ")"
   ]
  },
  {
   "cell_type": "code",
   "execution_count": 116,
   "metadata": {},
   "outputs": [
    {
     "data": {
      "text/html": [
       "<div>\n",
       "<style scoped>\n",
       "    .dataframe tbody tr th:only-of-type {\n",
       "        vertical-align: middle;\n",
       "    }\n",
       "\n",
       "    .dataframe tbody tr th {\n",
       "        vertical-align: top;\n",
       "    }\n",
       "\n",
       "    .dataframe thead th {\n",
       "        text-align: right;\n",
       "    }\n",
       "</style>\n",
       "<table border=\"1\" class=\"dataframe\">\n",
       "  <thead>\n",
       "    <tr style=\"text-align: right;\">\n",
       "      <th>tariff</th>\n",
       "      <th>smart</th>\n",
       "      <th>ultra</th>\n",
       "    </tr>\n",
       "    <tr>\n",
       "      <th>tariff</th>\n",
       "      <th></th>\n",
       "      <th></th>\n",
       "    </tr>\n",
       "  </thead>\n",
       "  <tbody>\n",
       "    <tr>\n",
       "      <td>smart</td>\n",
       "      <td>1.000000</td>\n",
       "      <td>-0.253408</td>\n",
       "    </tr>\n",
       "    <tr>\n",
       "      <td>ultra</td>\n",
       "      <td>-0.253408</td>\n",
       "      <td>1.000000</td>\n",
       "    </tr>\n",
       "  </tbody>\n",
       "</table>\n",
       "</div>"
      ],
      "text/plain": [
       "tariff     smart     ultra\n",
       "tariff                    \n",
       "smart   1.000000 -0.253408\n",
       "ultra  -0.253408  1.000000"
      ]
     },
     "execution_count": 116,
     "metadata": {},
     "output_type": "execute_result"
    }
   ],
   "source": [
    "data_users.pivot_table(index='reg_month', columns='tariff', values='user_id', aggfunc='count').corr()"
   ]
  },
  {
   "cell_type": "markdown",
   "metadata": {},
   "source": [
    "Похоже, что есть определенное перетекание клиентов с одного тарифа на другой - поскольку как только число новых пользователей растет в одном тарифе, одновременно оно снижается в другом, но эта взаимосвязь не сильная как видим из коэффициентов корреляции."
   ]
  },
  {
   "cell_type": "code",
   "execution_count": 117,
   "metadata": {},
   "outputs": [],
   "source": [
    "#делаю временный df, чтобы оценить сколько было уникальных пользователей в каждый месяц 2018 года\n",
    "data_calls_users_unique = data_calls_users.loc[:,['user_id','call_month','tariff']] #временная таблица нужна, чтобы не затерлись данные в основнй таблице\n",
    "data_calls_users_unique['user_id_month'] = data_calls_users_unique['user_id'].astype('str') + data_calls_users_unique['call_month'].astype('str') # делаю уникальное сочетание \n",
    "data_calls_users_unique['user_id_month'] = data_calls_users_unique['user_id_month'].drop_duplicates() #отбрасываю все остальные звонки в течении месяца\n",
    "data_calls_users_unique.dropna() #убираю из образовавшейся таблицы NaN\n",
    "pass"
   ]
  },
  {
   "cell_type": "code",
   "execution_count": 118,
   "metadata": {},
   "outputs": [
    {
     "data": {
      "text/plain": [
       "<matplotlib.axes._subplots.AxesSubplot at 0x7f1bf652a390>"
      ]
     },
     "execution_count": 118,
     "metadata": {},
     "output_type": "execute_result"
    },
    {
     "data": {
      "image/png": "[encoded data removed]",
      "text/plain": [
       "<Figure size 432x288 with 1 Axes>"
      ]
     },
     "metadata": {
      "needs_background": "light"
     },
     "output_type": "display_data"
    }
   ],
   "source": [
    "#вывожу графики по расчетам предыдущего блока - сколько уникальных пользователей каждый месяц\n",
    "unique_users_smart = (data_calls_users_unique\n",
    "                                    .query('tariff == \"smart\"') #and durtion == 0')\n",
    "                                    .pivot_table(index=\"call_month\", values=\"user_id_month\", aggfunc=\"count\")\n",
    "                       )\n",
    "unique_users_ultra = (data_calls_users_unique\n",
    "                                    .query('tariff == \"ultra\"') # and duration == 0')\n",
    "                                    .pivot_table(index=\"call_month\", values=\"user_id_month\", aggfunc=\"count\")\n",
    "                       )\n",
    "ax = unique_users_smart.plot(kind='line', y='user_id_month', linewidth=5, alpha=0.7, label='smart', title='Количество уникальных абонентов по месяцам растет')\n",
    "unique_users_ultra.plot(kind='line', y='user_id_month', linewidth=5, alpha=0.7, label='ultra', ax = ax)"
   ]
  },
  {
   "cell_type": "markdown",
   "metadata": {},
   "source": [
    "__Проанализируем поведение клиентов: посмотрим кто менял тариф__"
   ]
  },
  {
   "cell_type": "code",
   "execution_count": 119,
   "metadata": {},
   "outputs": [],
   "source": [
    "#промежуточные срезы данных по пользователям которые меняли тариф, чтобы выяснить как долго они оставались клиентами\n",
    "data_users_changed = data_users.query('churn_date.isna() == False')\n",
    "data_users_changed2 = data_users_changed.loc[:,['user_id', 'tariff', 'churn_date', 'reg_month']]\n",
    "data_users_changed2['churn_date'] = pd.to_datetime(data_users_changed2['churn_date'] , format='%Y-%m-%d')\n",
    "data_users_changed2['churn_month'] = data_users_changed2['churn_date'].dt.month\n",
    "data_users_changed2['duration_month'] = data_users_changed2['churn_month'] - data_users_changed2['reg_month']\n",
    "\n",
    "smart_dur = data_users_changed2.query('tariff == \"smart\"')['duration_month']\n",
    "ultra_dur = data_users_changed2.query('tariff == \"ultra\"')['duration_month']"
   ]
  },
  {
   "cell_type": "markdown",
   "metadata": {},
   "source": [
    "Проверим гипотезу, что пользователи тарифа `ultra` дольше остаются клиентами нежеле пользователи тарифа `smart`\n",
    "\n",
    "- H0: Ср.длительность_смарт = Ср.длительность_ультра\n",
    "- H1: Ср.длительность_смарт < Ср.длительность_ультра"
   ]
  },
  {
   "cell_type": "code",
   "execution_count": 120,
   "metadata": {},
   "outputs": [
    {
     "name": "stdout",
     "output_type": "stream",
     "text": [
      "p-значение:  0.7607612303565653\n",
      "Не можем отвергнуть нулевую гипотезу\n"
     ]
    }
   ],
   "source": [
    "alpha = 0.05\n",
    "result_tariffs_duration = st.ttest_ind(smart_dur,\n",
    "                       ultra_dur,\n",
    "                       equal_var = False\n",
    "                        )\n",
    "\n",
    "print(\"p-значение: \", result_tariffs_duration.pvalue)\n",
    "if result_tariffs_duration.pvalue < alpha:\n",
    "    print(\"Отверграем нулевую гипотезу\") and (smart_dur.mean() < ultra_dur.mean())\n",
    "else:\n",
    "    print(\"Не можем отвергнуть нулевую гипотезу\")"
   ]
  },
  {
   "cell_type": "markdown",
   "metadata": {},
   "source": [
    "__Подсчитайте для каждого пользователя: количество звонков и минут по месяцам__"
   ]
  },
  {
   "cell_type": "markdown",
   "metadata": {},
   "source": [
    "_Здесь считаю фактические данные, а не округленные по тарифам_"
   ]
  },
  {
   "cell_type": "code",
   "execution_count": 121,
   "metadata": {},
   "outputs": [
    {
     "data": {
      "text/plain": [
       "'Количество звонков'"
      ]
     },
     "metadata": {},
     "output_type": "display_data"
    },
    {
     "data": {
      "text/html": [
       "<div>\n",
       "<style scoped>\n",
       "    .dataframe tbody tr th:only-of-type {\n",
       "        vertical-align: middle;\n",
       "    }\n",
       "\n",
       "    .dataframe tbody tr th {\n",
       "        vertical-align: top;\n",
       "    }\n",
       "\n",
       "    .dataframe thead th {\n",
       "        text-align: right;\n",
       "    }\n",
       "</style>\n",
       "<table border=\"1\" class=\"dataframe\">\n",
       "  <thead>\n",
       "    <tr style=\"text-align: right;\">\n",
       "      <th></th>\n",
       "      <th></th>\n",
       "      <th>duration</th>\n",
       "    </tr>\n",
       "    <tr>\n",
       "      <th>user_id</th>\n",
       "      <th>call_month</th>\n",
       "      <th></th>\n",
       "    </tr>\n",
       "  </thead>\n",
       "  <tbody>\n",
       "    <tr>\n",
       "      <td rowspan=\"5\" valign=\"top\">1000</td>\n",
       "      <td>5</td>\n",
       "      <td>22</td>\n",
       "    </tr>\n",
       "    <tr>\n",
       "      <td>6</td>\n",
       "      <td>43</td>\n",
       "    </tr>\n",
       "    <tr>\n",
       "      <td>7</td>\n",
       "      <td>47</td>\n",
       "    </tr>\n",
       "    <tr>\n",
       "      <td>8</td>\n",
       "      <td>52</td>\n",
       "    </tr>\n",
       "    <tr>\n",
       "      <td>9</td>\n",
       "      <td>58</td>\n",
       "    </tr>\n",
       "    <tr>\n",
       "      <td>...</td>\n",
       "      <td>...</td>\n",
       "      <td>...</td>\n",
       "    </tr>\n",
       "    <tr>\n",
       "      <td>1498</td>\n",
       "      <td>10</td>\n",
       "      <td>41</td>\n",
       "    </tr>\n",
       "    <tr>\n",
       "      <td rowspan=\"4\" valign=\"top\">1499</td>\n",
       "      <td>9</td>\n",
       "      <td>9</td>\n",
       "    </tr>\n",
       "    <tr>\n",
       "      <td>10</td>\n",
       "      <td>68</td>\n",
       "    </tr>\n",
       "    <tr>\n",
       "      <td>11</td>\n",
       "      <td>74</td>\n",
       "    </tr>\n",
       "    <tr>\n",
       "      <td>12</td>\n",
       "      <td>69</td>\n",
       "    </tr>\n",
       "  </tbody>\n",
       "</table>\n",
       "<p>3174 rows × 1 columns</p>\n",
       "</div>"
      ],
      "text/plain": [
       "                    duration\n",
       "user_id call_month          \n",
       "1000    5                 22\n",
       "        6                 43\n",
       "        7                 47\n",
       "        8                 52\n",
       "        9                 58\n",
       "...                      ...\n",
       "1498    10                41\n",
       "1499    9                  9\n",
       "        10                68\n",
       "        11                74\n",
       "        12                69\n",
       "\n",
       "[3174 rows x 1 columns]"
      ]
     },
     "metadata": {},
     "output_type": "display_data"
    }
   ],
   "source": [
    "#подсчитаем количество звонков для пользователей:\n",
    "display(\"Количество звонков\", data_calls_users\n",
    "            .pivot_table(index=['user_id','call_month'], values='duration', aggfunc='count')\n",
    ")"
   ]
  },
  {
   "cell_type": "code",
   "execution_count": 122,
   "metadata": {},
   "outputs": [
    {
     "data": {
      "text/plain": [
       "'Длительность звонков, минут'"
      ]
     },
     "metadata": {},
     "output_type": "display_data"
    },
    {
     "data": {
      "text/html": [
       "<div>\n",
       "<style scoped>\n",
       "    .dataframe tbody tr th:only-of-type {\n",
       "        vertical-align: middle;\n",
       "    }\n",
       "\n",
       "    .dataframe tbody tr th {\n",
       "        vertical-align: top;\n",
       "    }\n",
       "\n",
       "    .dataframe thead th {\n",
       "        text-align: right;\n",
       "    }\n",
       "</style>\n",
       "<table border=\"1\" class=\"dataframe\">\n",
       "  <thead>\n",
       "    <tr style=\"text-align: right;\">\n",
       "      <th></th>\n",
       "      <th></th>\n",
       "      <th>duration</th>\n",
       "    </tr>\n",
       "    <tr>\n",
       "      <th>user_id</th>\n",
       "      <th>call_month</th>\n",
       "      <th></th>\n",
       "    </tr>\n",
       "  </thead>\n",
       "  <tbody>\n",
       "    <tr>\n",
       "      <td rowspan=\"5\" valign=\"top\">1000</td>\n",
       "      <td>5</td>\n",
       "      <td>179.11</td>\n",
       "    </tr>\n",
       "    <tr>\n",
       "      <td>6</td>\n",
       "      <td>246.05</td>\n",
       "    </tr>\n",
       "    <tr>\n",
       "      <td>7</td>\n",
       "      <td>353.66</td>\n",
       "    </tr>\n",
       "    <tr>\n",
       "      <td>8</td>\n",
       "      <td>447.97</td>\n",
       "    </tr>\n",
       "    <tr>\n",
       "      <td>9</td>\n",
       "      <td>509.86</td>\n",
       "    </tr>\n",
       "    <tr>\n",
       "      <td>...</td>\n",
       "      <td>...</td>\n",
       "      <td>...</td>\n",
       "    </tr>\n",
       "    <tr>\n",
       "      <td>1498</td>\n",
       "      <td>10</td>\n",
       "      <td>300.17</td>\n",
       "    </tr>\n",
       "    <tr>\n",
       "      <td rowspan=\"4\" valign=\"top\">1499</td>\n",
       "      <td>9</td>\n",
       "      <td>71.51</td>\n",
       "    </tr>\n",
       "    <tr>\n",
       "      <td>10</td>\n",
       "      <td>594.55</td>\n",
       "    </tr>\n",
       "    <tr>\n",
       "      <td>11</td>\n",
       "      <td>658.82</td>\n",
       "    </tr>\n",
       "    <tr>\n",
       "      <td>12</td>\n",
       "      <td>554.34</td>\n",
       "    </tr>\n",
       "  </tbody>\n",
       "</table>\n",
       "<p>3174 rows × 1 columns</p>\n",
       "</div>"
      ],
      "text/plain": [
       "                    duration\n",
       "user_id call_month          \n",
       "1000    5             179.11\n",
       "        6             246.05\n",
       "        7             353.66\n",
       "        8             447.97\n",
       "        9             509.86\n",
       "...                      ...\n",
       "1498    10            300.17\n",
       "1499    9              71.51\n",
       "        10            594.55\n",
       "        11            658.82\n",
       "        12            554.34\n",
       "\n",
       "[3174 rows x 1 columns]"
      ]
     },
     "metadata": {},
     "output_type": "display_data"
    }
   ],
   "source": [
    "#подсчитаем длительность звонков для клиентов:\n",
    "display(\"Длительность звонков, минут\", data_calls_users\n",
    "            .pivot_table(index=['user_id','call_month'], values='duration', aggfunc='sum')\n",
    ")"
   ]
  },
  {
   "cell_type": "markdown",
   "metadata": {},
   "source": [
    "_Теперь округлим данные по длительности звонков до ближайшей минуты согласно тарифу \"Мегалайн\" и подготовим данные к расчетам_"
   ]
  },
  {
   "cell_type": "code",
   "execution_count": 124,
   "metadata": {},
   "outputs": [],
   "source": [
    "data_calls_users['duration_rounded'] = np.ceil(data_calls_users['duration'])"
   ]
  },
  {
   "cell_type": "markdown",
   "metadata": {},
   "source": [
    "_Евгений спасибо! Исправил здесь `round` на `np.ceil`_"
   ]
  },
  {
   "cell_type": "markdown",
   "metadata": {},
   "source": [
    "Тариф \"Смарт\".\n",
    "\n",
    "Ежемесячная плата: 550 рублей\n",
    "Включено 500 минут разговора, 50 сообщений и 15 Гб интернет-трафика\n",
    "Стоимость услуг сверх тарифного пакета:\n",
    "минута разговора: 3 рубля\n",
    "сообщение: 3 рубля\n",
    "1 Гб интернет-трафика: 200 рублей\n",
    "___"
   ]
  },
  {
   "cell_type": "markdown",
   "metadata": {},
   "source": [
    "Тариф \"Ультра\".\n",
    "\n",
    "Ежемесячная плата: 1950 рублей\n",
    "Включено 3000 минут разговора, 1000 сообщений и 30 Гб интернет-трафика\n",
    "Стоимость услуг сверх тарифного пакета:\n",
    "минута разговора: 1 рубль\n",
    "сообщение: 1 рубль\n",
    "1 Гб интернет-трафика: 150 рублей"
   ]
  },
  {
   "cell_type": "code",
   "execution_count": 125,
   "metadata": {},
   "outputs": [],
   "source": [
    "#название тарифа становится индексом для удобства поиска\n",
    "data_tariffs.set_index('tariff_name', inplace=True)"
   ]
  },
  {
   "cell_type": "code",
   "execution_count": 126,
   "metadata": {},
   "outputs": [],
   "source": [
    "smart_basic_pay = data_tariffs.loc['smart','rub_monthly_fee'] # 550 абонентская плата\n",
    "ultra_basic_pay = data_tariffs.loc['ultra','rub_monthly_fee'] # 1950\n",
    "\n",
    "smart_basic_minutes =  data_tariffs.loc['smart','minutes_included'] # 500 пакет минут\n",
    "ultra_basic_minutes = data_tariffs.loc['ultra','minutes_included'] # 3000\n",
    "\n",
    "smart_basic_messages = data_tariffs.loc['smart','messages_included'] # 50 пакет смс\n",
    "ultra_basic_messages = data_tariffs.loc['ultra','messages_included'] # 1000\n",
    "\n",
    "smart_basic_internet = data_tariffs.loc['smart','mb_per_month_included'] # 15000 пакем Мб\n",
    "ultra_basic_internet = data_tariffs.loc['ultra','mb_per_month_included'] # 30000\n",
    "\n",
    "smart_per_minute = smart_per_message = data_tariffs.loc['smart','rub_per_minute'] # 3 рубля за минуту сверх пакета и за каждое смс сверх, пакета\n",
    "ultra_per_minute = ultra_per_message = data_tariffs.loc['ultra','rub_per_minute'] # 1\n",
    "\n",
    "smart_per_gb = data_tariffs.loc['smart','rub_per_gb'] # 200 рублей за гб сверх пакета\n",
    "ultra_per_gb = data_tariffs.loc['ultra','rub_per_gb'] # 150"
   ]
  },
  {
   "cell_type": "code",
   "execution_count": 127,
   "metadata": {},
   "outputs": [],
   "source": [
    "#составляем промежуточную таблицу для расчета выручки по звонкам\n",
    "data_calls_users_grouped = data_calls_users.pivot_table(index=['call_month','user_id'], columns='tariff', values='duration_rounded', aggfunc='sum')\n",
    "#применяем функцию которая заменяет на ноль данные по тем абонентам что уложились во включенный пакет из 500 минут и 3000 минут соответственно\n",
    "data_calls_users_grouped['smart'] = data_calls_users_grouped['smart'].apply(lambda x: 0 if x <= smart_basic_minutes else x-smart_basic_minutes)\n",
    "data_calls_users_grouped['ultra'] = data_calls_users_grouped['ultra'].apply(lambda x: 0 if x <= ultra_basic_minutes else x-ultra_basic_minutes)"
   ]
  },
  {
   "cell_type": "code",
   "execution_count": 128,
   "metadata": {},
   "outputs": [
    {
     "data": {
      "text/html": [
       "<div>\n",
       "<style scoped>\n",
       "    .dataframe tbody tr th:only-of-type {\n",
       "        vertical-align: middle;\n",
       "    }\n",
       "\n",
       "    .dataframe tbody tr th {\n",
       "        vertical-align: top;\n",
       "    }\n",
       "\n",
       "    .dataframe thead th {\n",
       "        text-align: right;\n",
       "    }\n",
       "</style>\n",
       "<table border=\"1\" class=\"dataframe\">\n",
       "  <thead>\n",
       "    <tr style=\"text-align: right;\">\n",
       "      <th></th>\n",
       "      <th>tariff</th>\n",
       "      <th>smart</th>\n",
       "      <th>ultra</th>\n",
       "      <th>revenue_basic</th>\n",
       "      <th>revenue_calls</th>\n",
       "    </tr>\n",
       "    <tr>\n",
       "      <th>call_month</th>\n",
       "      <th>user_id</th>\n",
       "      <th></th>\n",
       "      <th></th>\n",
       "      <th></th>\n",
       "      <th></th>\n",
       "    </tr>\n",
       "  </thead>\n",
       "  <tbody>\n",
       "    <tr>\n",
       "      <td rowspan=\"5\" valign=\"top\">1</td>\n",
       "      <td>1005</td>\n",
       "      <td>0.0</td>\n",
       "      <td>NaN</td>\n",
       "      <td>550</td>\n",
       "      <td>0.0</td>\n",
       "    </tr>\n",
       "    <tr>\n",
       "      <td>1032</td>\n",
       "      <td>0.0</td>\n",
       "      <td>NaN</td>\n",
       "      <td>550</td>\n",
       "      <td>0.0</td>\n",
       "    </tr>\n",
       "    <tr>\n",
       "      <td>1045</td>\n",
       "      <td>0.0</td>\n",
       "      <td>NaN</td>\n",
       "      <td>550</td>\n",
       "      <td>0.0</td>\n",
       "    </tr>\n",
       "    <tr>\n",
       "      <td>1055</td>\n",
       "      <td>170.0</td>\n",
       "      <td>NaN</td>\n",
       "      <td>550</td>\n",
       "      <td>510.0</td>\n",
       "    </tr>\n",
       "    <tr>\n",
       "      <td>1071</td>\n",
       "      <td>0.0</td>\n",
       "      <td>NaN</td>\n",
       "      <td>550</td>\n",
       "      <td>0.0</td>\n",
       "    </tr>\n",
       "    <tr>\n",
       "      <td>...</td>\n",
       "      <td>...</td>\n",
       "      <td>...</td>\n",
       "      <td>...</td>\n",
       "      <td>...</td>\n",
       "      <td>...</td>\n",
       "    </tr>\n",
       "    <tr>\n",
       "      <td rowspan=\"5\" valign=\"top\">12</td>\n",
       "      <td>1494</td>\n",
       "      <td>0.0</td>\n",
       "      <td>NaN</td>\n",
       "      <td>550</td>\n",
       "      <td>0.0</td>\n",
       "    </tr>\n",
       "    <tr>\n",
       "      <td>1495</td>\n",
       "      <td>NaN</td>\n",
       "      <td>0.0</td>\n",
       "      <td>1950</td>\n",
       "      <td>0.0</td>\n",
       "    </tr>\n",
       "    <tr>\n",
       "      <td>1496</td>\n",
       "      <td>108.0</td>\n",
       "      <td>NaN</td>\n",
       "      <td>550</td>\n",
       "      <td>324.0</td>\n",
       "    </tr>\n",
       "    <tr>\n",
       "      <td>1497</td>\n",
       "      <td>136.0</td>\n",
       "      <td>NaN</td>\n",
       "      <td>550</td>\n",
       "      <td>408.0</td>\n",
       "    </tr>\n",
       "    <tr>\n",
       "      <td>1499</td>\n",
       "      <td>83.0</td>\n",
       "      <td>NaN</td>\n",
       "      <td>550</td>\n",
       "      <td>249.0</td>\n",
       "    </tr>\n",
       "  </tbody>\n",
       "</table>\n",
       "<p>3174 rows × 4 columns</p>\n",
       "</div>"
      ],
      "text/plain": [
       "tariff              smart  ultra  revenue_basic  revenue_calls\n",
       "call_month user_id                                            \n",
       "1          1005       0.0    NaN            550            0.0\n",
       "           1032       0.0    NaN            550            0.0\n",
       "           1045       0.0    NaN            550            0.0\n",
       "           1055     170.0    NaN            550          510.0\n",
       "           1071       0.0    NaN            550            0.0\n",
       "...                   ...    ...            ...            ...\n",
       "12         1494       0.0    NaN            550            0.0\n",
       "           1495       NaN    0.0           1950            0.0\n",
       "           1496     108.0    NaN            550          324.0\n",
       "           1497     136.0    NaN            550          408.0\n",
       "           1499      83.0    NaN            550          249.0\n",
       "\n",
       "[3174 rows x 4 columns]"
      ]
     },
     "execution_count": 128,
     "metadata": {},
     "output_type": "execute_result"
    }
   ],
   "source": [
    "#делаем короткую функцию для расчета выручки за счет превышения лимита звонков\n",
    "def revenue_calls(row):\n",
    "    smart = row['smart']\n",
    "    ultra = row['ultra']\n",
    "    if smart >= 0:\n",
    "        return(smart*smart_per_minute)\n",
    "    if ultra >= 0:\n",
    "        return(ultra*ultra_per_minute)\n",
    "\n",
    "#также короткая функция расчета базовой абоненсткой платы    \n",
    "def revenue_basic(row):\n",
    "    smart = row['smart']\n",
    "    ultra = row['ultra']\n",
    "    if smart >=0:\n",
    "        return(smart_basic_pay)\n",
    "    if ultra >=0:\n",
    "        return(ultra_basic_pay)\n",
    "        \n",
    "\n",
    "#применяем функцию\n",
    "data_calls_users_grouped['revenue_basic'] = data_calls_users_grouped.apply(revenue_basic, axis=1) \n",
    "data_calls_users_grouped['revenue_calls'] = data_calls_users_grouped.apply(revenue_calls, axis=1) \n",
    "data_calls_users_grouped"
   ]
  },
  {
   "cell_type": "markdown",
   "metadata": {},
   "source": [
    "__Подсчитайте для каждого пользователя: количество отправленных сообщений по месяцам__"
   ]
  },
  {
   "cell_type": "code",
   "execution_count": 129,
   "metadata": {},
   "outputs": [
    {
     "data": {
      "text/plain": [
       "'Количество сообщений'"
      ]
     },
     "metadata": {},
     "output_type": "display_data"
    },
    {
     "data": {
      "text/html": [
       "<div>\n",
       "<style scoped>\n",
       "    .dataframe tbody tr th:only-of-type {\n",
       "        vertical-align: middle;\n",
       "    }\n",
       "\n",
       "    .dataframe tbody tr th {\n",
       "        vertical-align: top;\n",
       "    }\n",
       "\n",
       "    .dataframe thead th {\n",
       "        text-align: right;\n",
       "    }\n",
       "</style>\n",
       "<table border=\"1\" class=\"dataframe\">\n",
       "  <thead>\n",
       "    <tr style=\"text-align: right;\">\n",
       "      <th></th>\n",
       "      <th></th>\n",
       "      <th>id</th>\n",
       "    </tr>\n",
       "    <tr>\n",
       "      <th>user_id</th>\n",
       "      <th>message_month</th>\n",
       "      <th></th>\n",
       "    </tr>\n",
       "  </thead>\n",
       "  <tbody>\n",
       "    <tr>\n",
       "      <td rowspan=\"5\" valign=\"top\">1000</td>\n",
       "      <td>5</td>\n",
       "      <td>22</td>\n",
       "    </tr>\n",
       "    <tr>\n",
       "      <td>6</td>\n",
       "      <td>60</td>\n",
       "    </tr>\n",
       "    <tr>\n",
       "      <td>7</td>\n",
       "      <td>75</td>\n",
       "    </tr>\n",
       "    <tr>\n",
       "      <td>8</td>\n",
       "      <td>81</td>\n",
       "    </tr>\n",
       "    <tr>\n",
       "      <td>9</td>\n",
       "      <td>57</td>\n",
       "    </tr>\n",
       "    <tr>\n",
       "      <td>...</td>\n",
       "      <td>...</td>\n",
       "      <td>...</td>\n",
       "    </tr>\n",
       "    <tr>\n",
       "      <td>1498</td>\n",
       "      <td>10</td>\n",
       "      <td>42</td>\n",
       "    </tr>\n",
       "    <tr>\n",
       "      <td rowspan=\"4\" valign=\"top\">1499</td>\n",
       "      <td>9</td>\n",
       "      <td>11</td>\n",
       "    </tr>\n",
       "    <tr>\n",
       "      <td>10</td>\n",
       "      <td>48</td>\n",
       "    </tr>\n",
       "    <tr>\n",
       "      <td>11</td>\n",
       "      <td>59</td>\n",
       "    </tr>\n",
       "    <tr>\n",
       "      <td>12</td>\n",
       "      <td>66</td>\n",
       "    </tr>\n",
       "  </tbody>\n",
       "</table>\n",
       "<p>2717 rows × 1 columns</p>\n",
       "</div>"
      ],
      "text/plain": [
       "                       id\n",
       "user_id message_month    \n",
       "1000    5              22\n",
       "        6              60\n",
       "        7              75\n",
       "        8              81\n",
       "        9              57\n",
       "...                    ..\n",
       "1498    10             42\n",
       "1499    9              11\n",
       "        10             48\n",
       "        11             59\n",
       "        12             66\n",
       "\n",
       "[2717 rows x 1 columns]"
      ]
     },
     "metadata": {},
     "output_type": "display_data"
    }
   ],
   "source": [
    "#подсчитаем количество сообщений:\n",
    "display(\"Количество сообщений\", data_messages_users\n",
    "            .pivot_table(index=['user_id','message_month'], values='id', aggfunc='count')\n",
    ")"
   ]
  },
  {
   "cell_type": "code",
   "execution_count": 131,
   "metadata": {},
   "outputs": [],
   "source": [
    "#составляем промежуточную таблицу для расчета выручки по сообщениям\n",
    "data_messages_users_grouped = data_messages_users.pivot_table(index=['message_month','user_id'], columns='tariff', values='id', aggfunc='count')\n",
    "#применяем функцию которая заменяет на ноль данные по тем абонентам что уложились во включенный пакет из 50 минут и 1000 сообщений\n",
    "data_messages_users_grouped['smart'] = data_messages_users_grouped['smart'].apply(lambda x: 0 if x <= smart_basic_messages else x-smart_basic_messages)\n",
    "data_messages_users_grouped['ultra'] = data_messages_users_grouped['ultra'].apply(lambda x: 0 if x <= ultra_basic_messages else x-ultra_basic_messages)"
   ]
  },
  {
   "cell_type": "code",
   "execution_count": 132,
   "metadata": {},
   "outputs": [],
   "source": [
    "#делаем короткую функцию для расчета выручки за счет превышения лимита сообщений\n",
    "def revenue_messages(row):\n",
    "    smart = row['smart']\n",
    "    ultra = row['ultra']\n",
    "    if smart >= 0:\n",
    "        return(smart*smart_per_message)\n",
    "    if ultra >= 0:\n",
    "        return(ultra*ultra_per_message)      \n",
    "\n",
    "#применяем функцию\n",
    "data_messages_users_grouped['revenue_messages'] = data_messages_users_grouped.apply(revenue_messages, axis=1) "
   ]
  },
  {
   "cell_type": "markdown",
   "metadata": {},
   "source": [
    "__Подсчитайте для каждого пользователя: объем израсходованного интернет трафика по месяцам__"
   ]
  },
  {
   "cell_type": "markdown",
   "metadata": {},
   "source": [
    "_Здесь фактический, не округленный по тарифу трафик_"
   ]
  },
  {
   "cell_type": "code",
   "execution_count": 133,
   "metadata": {},
   "outputs": [
    {
     "data": {
      "text/plain": [
       "'Объем трафика, Мб'"
      ]
     },
     "metadata": {},
     "output_type": "display_data"
    },
    {
     "data": {
      "text/html": [
       "<div>\n",
       "<style scoped>\n",
       "    .dataframe tbody tr th:only-of-type {\n",
       "        vertical-align: middle;\n",
       "    }\n",
       "\n",
       "    .dataframe tbody tr th {\n",
       "        vertical-align: top;\n",
       "    }\n",
       "\n",
       "    .dataframe thead th {\n",
       "        text-align: right;\n",
       "    }\n",
       "</style>\n",
       "<table border=\"1\" class=\"dataframe\">\n",
       "  <thead>\n",
       "    <tr style=\"text-align: right;\">\n",
       "      <th></th>\n",
       "      <th></th>\n",
       "      <th>mb_used</th>\n",
       "    </tr>\n",
       "    <tr>\n",
       "      <th>user_id</th>\n",
       "      <th>session_month</th>\n",
       "      <th></th>\n",
       "    </tr>\n",
       "  </thead>\n",
       "  <tbody>\n",
       "    <tr>\n",
       "      <td rowspan=\"5\" valign=\"top\">1000</td>\n",
       "      <td>5</td>\n",
       "      <td>2780.31</td>\n",
       "    </tr>\n",
       "    <tr>\n",
       "      <td>6</td>\n",
       "      <td>25867.87</td>\n",
       "    </tr>\n",
       "    <tr>\n",
       "      <td>7</td>\n",
       "      <td>14530.46</td>\n",
       "    </tr>\n",
       "    <tr>\n",
       "      <td>8</td>\n",
       "      <td>15109.57</td>\n",
       "    </tr>\n",
       "    <tr>\n",
       "      <td>9</td>\n",
       "      <td>15622.55</td>\n",
       "    </tr>\n",
       "    <tr>\n",
       "      <td>...</td>\n",
       "      <td>...</td>\n",
       "      <td>...</td>\n",
       "    </tr>\n",
       "    <tr>\n",
       "      <td>1498</td>\n",
       "      <td>10</td>\n",
       "      <td>23514.26</td>\n",
       "    </tr>\n",
       "    <tr>\n",
       "      <td rowspan=\"4\" valign=\"top\">1499</td>\n",
       "      <td>9</td>\n",
       "      <td>2113.99</td>\n",
       "    </tr>\n",
       "    <tr>\n",
       "      <td>10</td>\n",
       "      <td>21812.11</td>\n",
       "    </tr>\n",
       "    <tr>\n",
       "      <td>11</td>\n",
       "      <td>20645.71</td>\n",
       "    </tr>\n",
       "    <tr>\n",
       "      <td>12</td>\n",
       "      <td>14396.78</td>\n",
       "    </tr>\n",
       "  </tbody>\n",
       "</table>\n",
       "<p>3203 rows × 1 columns</p>\n",
       "</div>"
      ],
      "text/plain": [
       "                        mb_used\n",
       "user_id session_month          \n",
       "1000    5               2780.31\n",
       "        6              25867.87\n",
       "        7              14530.46\n",
       "        8              15109.57\n",
       "        9              15622.55\n",
       "...                         ...\n",
       "1498    10             23514.26\n",
       "1499    9               2113.99\n",
       "        10             21812.11\n",
       "        11             20645.71\n",
       "        12             14396.78\n",
       "\n",
       "[3203 rows x 1 columns]"
      ]
     },
     "metadata": {},
     "output_type": "display_data"
    }
   ],
   "source": [
    "#подсчитаем интернет трафик:\n",
    "display(\"Объем трафика, Мб\", data_internet_users\n",
    "            .pivot_table(index=['user_id','session_month'], values='mb_used', aggfunc='sum')\n",
    ")"
   ]
  },
  {
   "cell_type": "markdown",
   "metadata": {},
   "source": [
    "_Теперь округлим данные по длительности интернет сессий до ближайшего Мб согласно тарифу \"Мегалайн\" и подготовим данные к расчетам_"
   ]
  },
  {
   "cell_type": "code",
   "execution_count": 134,
   "metadata": {},
   "outputs": [],
   "source": [
    "data_internet_users['mb_used_rounded'] = np.ceil(data_internet_users['mb_used'])"
   ]
  },
  {
   "cell_type": "code",
   "execution_count": 137,
   "metadata": {},
   "outputs": [],
   "source": [
    "#составляем промежуточную таблицу для расчета выручки по интернет трафику\n",
    "data_internet_users_grouped = data_internet_users.pivot_table(index=['session_month','user_id'], columns='tariff', values='mb_used_rounded', aggfunc='sum')\n",
    "#применяем функцию которая заменяет на ноль данные по тем абонентам что уложились во включенный пакет из 15 и 30 Гб\n",
    "data_internet_users_grouped['smart'] = data_internet_users_grouped['smart'].apply(lambda x: 0 if x <= smart_basic_internet else x-smart_basic_internet)\n",
    "data_internet_users_grouped['ultra'] = data_internet_users_grouped['ultra'].apply(lambda x: 0 if x <= ultra_basic_internet else x-ultra_basic_internet)"
   ]
  },
  {
   "cell_type": "code",
   "execution_count": 138,
   "metadata": {},
   "outputs": [],
   "source": [
    "#делаем короткую функцию для расчета выручки за счет превышения лимита трафика\n",
    "def revenue_internet(row):\n",
    "    smart = row['smart']\n",
    "    ultra = row['ultra']\n",
    "    if smart >= 0:\n",
    "        return(round(smart/1024,0) * smart_per_gb)\n",
    "    if ultra >= 0:\n",
    "        return(round(ultra/1024,0) * ultra_per_gb)      \n",
    "\n",
    "#применяем функцию\n",
    "data_internet_users_grouped['revenue_internet'] = data_internet_users_grouped.apply(revenue_internet, axis=1) "
   ]
  },
  {
   "cell_type": "markdown",
   "metadata": {},
   "source": [
    "_Готово :)_"
   ]
  },
  {
   "cell_type": "markdown",
   "metadata": {},
   "source": [
    "__Подсчитайте для каждого пользователя: помесячную выручку__\n",
    "___\n",
    "Вычтите бесплатный лимит из суммарного количества звонков, сообщений и интернет-трафика; остаток умножьте на значение из тарифного плана; прибавьте абонентскую плату, соответствующую тарифному плану."
   ]
  },
  {
   "cell_type": "code",
   "execution_count": 139,
   "metadata": {},
   "outputs": [],
   "source": [
    "#осталось объединить данные выручки по сегментам в единый массив с разбивкой по месяцам и пользователям\n",
    "#перед этим составные индексы приводим к виду обычных колонок\n",
    "data_calls_users_grouped = data_calls_users_grouped.reset_index(level=['call_month', 'user_id'])\n",
    "data_messages_users_grouped = data_messages_users_grouped.reset_index(level=['message_month', 'user_id'])\n",
    "data_internet_users_grouped = data_internet_users_grouped.reset_index(level=['session_month', 'user_id'])"
   ]
  },
  {
   "cell_type": "code",
   "execution_count": 140,
   "metadata": {},
   "outputs": [],
   "source": [
    "#переименовываем название столбцов с месяцем для того, чтобы можно произвести merge дальше\n",
    "data_calls_users_grouped.rename(columns={'call_month': 'month'}, inplace=True)\n",
    "data_messages_users_grouped.rename(columns={'message_month': 'month'}, inplace=True)\n",
    "data_internet_users_grouped.rename(columns={'session_month': 'month'}, inplace=True)"
   ]
  },
  {
   "cell_type": "code",
   "execution_count": 141,
   "metadata": {},
   "outputs": [
    {
     "name": "stdout",
     "output_type": "stream",
     "text": [
      "<class 'pandas.core.frame.DataFrame'>\n",
      "Int64Index: 3214 entries, 0 to 3213\n",
      "Data columns (total 20 columns):\n",
      "month               3214 non-null int64\n",
      "user_id             3214 non-null int64\n",
      "smart_x             2223 non-null float64\n",
      "ultra_x             951 non-null float64\n",
      "revenue_basic       3174 non-null float64\n",
      "revenue_calls       3174 non-null float64\n",
      "smart_y             1922 non-null float64\n",
      "ultra_y             795 non-null float64\n",
      "revenue_messages    2717 non-null float64\n",
      "smart               2228 non-null float64\n",
      "ultra               975 non-null float64\n",
      "revenue_internet    3203 non-null float64\n",
      "age                 3214 non-null int64\n",
      "churn_date          187 non-null object\n",
      "city                3214 non-null object\n",
      "first_name          3214 non-null object\n",
      "last_name           3214 non-null object\n",
      "reg_date            3214 non-null datetime64[ns]\n",
      "tariff              3214 non-null object\n",
      "reg_month           3214 non-null int64\n",
      "dtypes: datetime64[ns](1), float64(10), int64(4), object(5)\n",
      "memory usage: 527.3+ KB\n"
     ]
    }
   ],
   "source": [
    "#делаем одну общу таблицу по выручке\n",
    "data_revenue_combined = data_calls_users_grouped.merge(data_messages_users_grouped, on=['user_id','month'], how = 'outer')\n",
    "data_revenue_combined = data_revenue_combined.merge(data_internet_users_grouped, on=['user_id','month'], how = 'outer')\n",
    "data_revenue_combined = data_revenue_combined.merge(data_users, on='user_id', how = 'left')\n",
    "data_revenue_combined.info()"
   ]
  },
  {
   "cell_type": "code",
   "execution_count": 142,
   "metadata": {},
   "outputs": [],
   "source": [
    "#убираем из обобщенной таблицы все лишнее\n",
    "data_revenue_combined = data_revenue_combined.drop(columns=['smart_x', 'ultra_x', 'smart_y', 'ultra_y', 'smart', 'ultra', 'age', 'first_name', 'last_name','reg_date', 'churn_date'])"
   ]
  },
  {
   "cell_type": "code",
   "execution_count": 143,
   "metadata": {},
   "outputs": [],
   "source": [
    "#делаем короткую фукнцию, чтобы заполнить revenue_basic там где NaN\n",
    "def revenue_basic2(row):\n",
    "    revenue_basic = row['revenue_basic']\n",
    "    tariff = row['tariff']\n",
    "    \n",
    "    if tariff == 'ultra':\n",
    "        return(ultra_basic_pay)\n",
    "    if tariff == 'smart':\n",
    "        return(smart_basic_pay)"
   ]
  },
  {
   "cell_type": "code",
   "execution_count": 144,
   "metadata": {},
   "outputs": [],
   "source": [
    "#применяем функцию\n",
    "data_revenue_combined['revenue_basic'] = data_revenue_combined.apply(revenue_basic2, axis = 1)"
   ]
  },
  {
   "cell_type": "code",
   "execution_count": 145,
   "metadata": {},
   "outputs": [],
   "source": [
    "#заменяем NaN на 0, чтобы посчитать revenue_total\n",
    "data_revenue_combined['revenue_calls'] = data_revenue_combined['revenue_calls'].fillna(0)\n",
    "data_revenue_combined['revenue_messages'] = data_revenue_combined['revenue_messages'].fillna(0)\n",
    "data_revenue_combined['revenue_internet'] = data_revenue_combined['revenue_internet'].fillna(0)"
   ]
  },
  {
   "cell_type": "markdown",
   "metadata": {},
   "source": [
    "__Помесячная выручка по каждому абоненту__"
   ]
  },
  {
   "cell_type": "code",
   "execution_count": 146,
   "metadata": {},
   "outputs": [
    {
     "data": {
      "text/html": [
       "<div>\n",
       "<style scoped>\n",
       "    .dataframe tbody tr th:only-of-type {\n",
       "        vertical-align: middle;\n",
       "    }\n",
       "\n",
       "    .dataframe tbody tr th {\n",
       "        vertical-align: top;\n",
       "    }\n",
       "\n",
       "    .dataframe thead th {\n",
       "        text-align: right;\n",
       "    }\n",
       "</style>\n",
       "<table border=\"1\" class=\"dataframe\">\n",
       "  <thead>\n",
       "    <tr style=\"text-align: right;\">\n",
       "      <th></th>\n",
       "      <th>month</th>\n",
       "      <th>user_id</th>\n",
       "      <th>revenue_basic</th>\n",
       "      <th>revenue_calls</th>\n",
       "      <th>revenue_messages</th>\n",
       "      <th>revenue_internet</th>\n",
       "      <th>city</th>\n",
       "      <th>tariff</th>\n",
       "      <th>reg_month</th>\n",
       "      <th>revenue_total</th>\n",
       "    </tr>\n",
       "  </thead>\n",
       "  <tbody>\n",
       "    <tr>\n",
       "      <td>0</td>\n",
       "      <td>1</td>\n",
       "      <td>1005</td>\n",
       "      <td>550</td>\n",
       "      <td>0.0</td>\n",
       "      <td>0.0</td>\n",
       "      <td>0.0</td>\n",
       "      <td>Набережные Челны</td>\n",
       "      <td>smart</td>\n",
       "      <td>1</td>\n",
       "      <td>550.0</td>\n",
       "    </tr>\n",
       "    <tr>\n",
       "      <td>1</td>\n",
       "      <td>1</td>\n",
       "      <td>1032</td>\n",
       "      <td>550</td>\n",
       "      <td>0.0</td>\n",
       "      <td>0.0</td>\n",
       "      <td>2400.0</td>\n",
       "      <td>Ульяновск</td>\n",
       "      <td>smart</td>\n",
       "      <td>1</td>\n",
       "      <td>2950.0</td>\n",
       "    </tr>\n",
       "    <tr>\n",
       "      <td>2</td>\n",
       "      <td>1</td>\n",
       "      <td>1045</td>\n",
       "      <td>550</td>\n",
       "      <td>0.0</td>\n",
       "      <td>0.0</td>\n",
       "      <td>0.0</td>\n",
       "      <td>Улан-Удэ</td>\n",
       "      <td>smart</td>\n",
       "      <td>1</td>\n",
       "      <td>550.0</td>\n",
       "    </tr>\n",
       "    <tr>\n",
       "      <td>3</td>\n",
       "      <td>1</td>\n",
       "      <td>1055</td>\n",
       "      <td>550</td>\n",
       "      <td>510.0</td>\n",
       "      <td>0.0</td>\n",
       "      <td>600.0</td>\n",
       "      <td>Казань</td>\n",
       "      <td>smart</td>\n",
       "      <td>1</td>\n",
       "      <td>1660.0</td>\n",
       "    </tr>\n",
       "    <tr>\n",
       "      <td>4</td>\n",
       "      <td>1</td>\n",
       "      <td>1071</td>\n",
       "      <td>550</td>\n",
       "      <td>0.0</td>\n",
       "      <td>0.0</td>\n",
       "      <td>200.0</td>\n",
       "      <td>Омск</td>\n",
       "      <td>smart</td>\n",
       "      <td>1</td>\n",
       "      <td>750.0</td>\n",
       "    </tr>\n",
       "    <tr>\n",
       "      <td>...</td>\n",
       "      <td>...</td>\n",
       "      <td>...</td>\n",
       "      <td>...</td>\n",
       "      <td>...</td>\n",
       "      <td>...</td>\n",
       "      <td>...</td>\n",
       "      <td>...</td>\n",
       "      <td>...</td>\n",
       "      <td>...</td>\n",
       "      <td>...</td>\n",
       "    </tr>\n",
       "    <tr>\n",
       "      <td>3209</td>\n",
       "      <td>12</td>\n",
       "      <td>1231</td>\n",
       "      <td>1950</td>\n",
       "      <td>0.0</td>\n",
       "      <td>0.0</td>\n",
       "      <td>450.0</td>\n",
       "      <td>Чебоксары</td>\n",
       "      <td>ultra</td>\n",
       "      <td>5</td>\n",
       "      <td>2400.0</td>\n",
       "    </tr>\n",
       "    <tr>\n",
       "      <td>3210</td>\n",
       "      <td>12</td>\n",
       "      <td>1328</td>\n",
       "      <td>1950</td>\n",
       "      <td>0.0</td>\n",
       "      <td>0.0</td>\n",
       "      <td>1500.0</td>\n",
       "      <td>Мурманск</td>\n",
       "      <td>ultra</td>\n",
       "      <td>10</td>\n",
       "      <td>3450.0</td>\n",
       "    </tr>\n",
       "    <tr>\n",
       "      <td>3211</td>\n",
       "      <td>12</td>\n",
       "      <td>1473</td>\n",
       "      <td>1950</td>\n",
       "      <td>0.0</td>\n",
       "      <td>0.0</td>\n",
       "      <td>0.0</td>\n",
       "      <td>Красноярск</td>\n",
       "      <td>ultra</td>\n",
       "      <td>8</td>\n",
       "      <td>1950.0</td>\n",
       "    </tr>\n",
       "    <tr>\n",
       "      <td>3212</td>\n",
       "      <td>12</td>\n",
       "      <td>1489</td>\n",
       "      <td>550</td>\n",
       "      <td>0.0</td>\n",
       "      <td>0.0</td>\n",
       "      <td>800.0</td>\n",
       "      <td>Санкт-Петербург</td>\n",
       "      <td>smart</td>\n",
       "      <td>8</td>\n",
       "      <td>1350.0</td>\n",
       "    </tr>\n",
       "    <tr>\n",
       "      <td>3213</td>\n",
       "      <td>4</td>\n",
       "      <td>1476</td>\n",
       "      <td>1950</td>\n",
       "      <td>0.0</td>\n",
       "      <td>0.0</td>\n",
       "      <td>0.0</td>\n",
       "      <td>Москва</td>\n",
       "      <td>ultra</td>\n",
       "      <td>4</td>\n",
       "      <td>1950.0</td>\n",
       "    </tr>\n",
       "  </tbody>\n",
       "</table>\n",
       "<p>3214 rows × 10 columns</p>\n",
       "</div>"
      ],
      "text/plain": [
       "      month  user_id  revenue_basic  revenue_calls  revenue_messages  \\\n",
       "0         1     1005            550            0.0               0.0   \n",
       "1         1     1032            550            0.0               0.0   \n",
       "2         1     1045            550            0.0               0.0   \n",
       "3         1     1055            550          510.0               0.0   \n",
       "4         1     1071            550            0.0               0.0   \n",
       "...     ...      ...            ...            ...               ...   \n",
       "3209     12     1231           1950            0.0               0.0   \n",
       "3210     12     1328           1950            0.0               0.0   \n",
       "3211     12     1473           1950            0.0               0.0   \n",
       "3212     12     1489            550            0.0               0.0   \n",
       "3213      4     1476           1950            0.0               0.0   \n",
       "\n",
       "      revenue_internet              city tariff  reg_month  revenue_total  \n",
       "0                  0.0  Набережные Челны  smart          1          550.0  \n",
       "1               2400.0         Ульяновск  smart          1         2950.0  \n",
       "2                  0.0          Улан-Удэ  smart          1          550.0  \n",
       "3                600.0            Казань  smart          1         1660.0  \n",
       "4                200.0              Омск  smart          1          750.0  \n",
       "...                ...               ...    ...        ...            ...  \n",
       "3209             450.0         Чебоксары  ultra          5         2400.0  \n",
       "3210            1500.0          Мурманск  ultra         10         3450.0  \n",
       "3211               0.0        Красноярск  ultra          8         1950.0  \n",
       "3212             800.0   Санкт-Петербург  smart          8         1350.0  \n",
       "3213               0.0            Москва  ultra          4         1950.0  \n",
       "\n",
       "[3214 rows x 10 columns]"
      ]
     },
     "metadata": {},
     "output_type": "display_data"
    }
   ],
   "source": [
    "#считаем общую сумму\n",
    "data_revenue_combined['revenue_total'] = (data_revenue_combined['revenue_basic'] +\n",
    "                                          data_revenue_combined['revenue_calls'] +\n",
    "                                          data_revenue_combined['revenue_messages'] +\n",
    "                                          data_revenue_combined['revenue_internet']\n",
    "                                         )\n",
    "display(data_revenue_combined)"
   ]
  },
  {
   "cell_type": "code",
   "execution_count": 147,
   "metadata": {},
   "outputs": [],
   "source": [
    "#список городов миллионников\n",
    "millionaire_cities = ['Москва', 'Санкт-Петербург', 'Ново-Сибирск', 'Екатеринбург', 'Казань','Нижний Новгород',\n",
    "                      'Челябинск', 'Самара', 'Омск', 'Ростов-на-Дону', 'Уфа', 'Красноярск', 'Воронеж', 'Пермь', 'Волгоград'\n",
    "                     ]"
   ]
  },
  {
   "cell_type": "code",
   "execution_count": 148,
   "metadata": {},
   "outputs": [],
   "source": [
    "#print('Тула' in millionaire_cities) # это я проверял проходил ли Тула в города миллионники"
   ]
  },
  {
   "cell_type": "code",
   "execution_count": 149,
   "metadata": {},
   "outputs": [],
   "source": [
    "#сделаем функцию, чтобы отдельно выделить города миллионики и все остальные\n",
    "def millionare_city1(city):\n",
    "    if city in millionaire_cities:\n",
    "        return('миллионники')\n",
    "    else:\n",
    "        return('не миллионники')\n",
    "    \n",
    "#и также функцию которая указаные называние города миллионника, а всем остальным присваивает \"прочие\"\n",
    "\n",
    "def millionare_city2(city):\n",
    "    if city in millionaire_cities:\n",
    "        return(city)\n",
    "    else:\n",
    "        return('прочие')"
   ]
  },
  {
   "cell_type": "code",
   "execution_count": 150,
   "metadata": {},
   "outputs": [],
   "source": [
    "data_revenue_combined['millionaire_city_type'] = data_revenue_combined['city'].apply(millionare_city1)\n",
    "data_revenue_combined['millionaire_city'] = data_revenue_combined['city'].apply(millionare_city2)"
   ]
  },
  {
   "cell_type": "markdown",
   "metadata": {},
   "source": [
    "__Оценим в каких городах клиенты \"Мегалайн\" тратят на связь больше всего__"
   ]
  },
  {
   "cell_type": "code",
   "execution_count": 151,
   "metadata": {},
   "outputs": [
    {
     "data": {
      "text/plain": [
       "<matplotlib.axes._subplots.AxesSubplot at 0x7f1bf2104d10>"
      ]
     },
     "execution_count": 151,
     "metadata": {},
     "output_type": "execute_result"
    },
    {
     "data": {
      "image/png": "[encoded data removed]",
      "text/plain": [
       "<Figure size 576x576 with 1 Axes>"
      ]
     },
     "metadata": {},
     "output_type": "display_data"
    }
   ],
   "source": [
    "split_by_city = (data_revenue_combined\n",
    "                                            .groupby('millionaire_city')['revenue_total']\n",
    "                                            .sum()\n",
    "                                            .sort_values(ascending=False)/data_revenue_combined.groupby('city')['revenue_total'].sum().sum()\n",
    "                                            \n",
    ")\n",
    "split_by_city.plot(kind='pie', figsize = (8,8), autopct='%1.1f%%', title='Вклад города в выручку \"Мегалайн\"')"
   ]
  },
  {
   "cell_type": "markdown",
   "metadata": {},
   "source": [
    "Оценим в каких городах клиенты \"Мегалайн\" предпочитают какой тариф"
   ]
  },
  {
   "cell_type": "code",
   "execution_count": 152,
   "metadata": {},
   "outputs": [
    {
     "data": {
      "text/plain": [
       "array([<matplotlib.axes._subplots.AxesSubplot object at 0x7f1bf2187210>],\n",
       "      dtype=object)"
      ]
     },
     "execution_count": 152,
     "metadata": {},
     "output_type": "execute_result"
    },
    {
     "data": {
      "image/png": "[encoded data removed]",
      "text/plain": [
       "<Figure size 432x432 with 1 Axes>"
      ]
     },
     "metadata": {},
     "output_type": "display_data"
    },
    {
     "data": {
      "image/png": "[encoded data removed]",
      "text/plain": [
       "<Figure size 432x432 with 1 Axes>"
      ]
     },
     "metadata": {},
     "output_type": "display_data"
    }
   ],
   "source": [
    "millionaire_cities_tariffs = (data_revenue_combined\n",
    "                    .query('millionaire_city_type == \"миллионники\"')\n",
    "                    .pivot_table(index='tariff', values='revenue_total', aggfunc='sum')\n",
    ")\n",
    "\n",
    "non_millionaire_cities_tariffs = (data_revenue_combined\n",
    "                    .query('millionaire_city_type == \"не миллионники\"')\n",
    "                    .pivot_table(index='tariff', values='revenue_total', aggfunc='sum')\n",
    ")\n",
    "\n",
    "\n",
    "millionaire_cities_tariffs.plot(kind='pie', figsize = (6,6), autopct='%1.1f%%', subplots = True, title='Сплит по тарифам \"Мегалайн\" в городах миллионниках в выручке')\n",
    "non_millionaire_cities_tariffs.plot(kind='pie', figsize = (6,6), autopct='%1.1f%%', subplots = True, title='Сплит по тарифам \"Мегалайн\" в городах не миллионниках в выручке')"
   ]
  },
  {
   "cell_type": "code",
   "execution_count": 153,
   "metadata": {},
   "outputs": [
    {
     "data": {
      "text/plain": [
       "array([<matplotlib.axes._subplots.AxesSubplot object at 0x7f1bf21c3110>],\n",
       "      dtype=object)"
      ]
     },
     "execution_count": 153,
     "metadata": {},
     "output_type": "execute_result"
    },
    {
     "data": {
      "image/png": "[encoded data removed]",
      "text/plain": [
       "<Figure size 432x432 with 1 Axes>"
      ]
     },
     "metadata": {},
     "output_type": "display_data"
    },
    {
     "data": {
      "image/png": "[encoded data removed]",
      "text/plain": [
       "<Figure size 432x432 with 1 Axes>"
      ]
     },
     "metadata": {},
     "output_type": "display_data"
    }
   ],
   "source": [
    "millionaire_cities_tariffs = (data_revenue_combined\n",
    "                    .query('millionaire_city_type == \"миллионники\"')\n",
    "                    .pivot_table(index='tariff', values='revenue_total', aggfunc='count')\n",
    ")\n",
    "\n",
    "non_millionaire_cities_tariffs = (data_revenue_combined\n",
    "                    .query('millionaire_city_type == \"не миллионники\"')\n",
    "                    .pivot_table(index='tariff', values='revenue_total', aggfunc='count')\n",
    ")\n",
    "\n",
    "\n",
    "millionaire_cities_tariffs.plot(kind='pie', figsize = (6,6), autopct='%1.1f%%', subplots = True, title='Сплит по тарифам \"Мегалайн\" в городах миллионниках в количестве абонентов')\n",
    "non_millionaire_cities_tariffs.plot(kind='pie', figsize = (6,6), autopct='%1.1f%%', subplots = True, title='Сплит по тарифам \"Мегалайн\" в городах не миллионниках в количестве абонентов')"
   ]
  },
  {
   "cell_type": "markdown",
   "metadata": {},
   "source": [
    "### Вывод:\n",
    "\n",
    "1. Мы подготовили данные заменил 0.0 на медианные значения по каждому пользователю.\n",
    "1. Мы также начали проводить анализ предпочтений клиентов \"Мегалайн\", так в частности:\n",
    "___\n",
    "- количество абонентов на каждом из тарифных планов заметно увеличивается в течение 2018 года, но рост на тарифе `smart` происходит быстрее, что в интуитивно можно связать, с более низкой ценой данного тарифа\n",
    "- мы тажке обратили внимание, что в месяц когда наблюдается рост притока новых пользователей одного тарифа, рост новких клиентов другого тарифа несколько снижается, что также логично поскольку в каждый отдельный месяц поддерживается (возможно рекламируется) какой-то один тарифный план\n",
    "- мы постарались оценить с помощью статистической гипотезы какова длительность пользования тарифами и отличается ли она. Проверка показала, что с большой вероятностью клиенты одинаково долго пользуются обоими тарифами, что может свидетельствовать, что оба тарифа одинаково устраивают своих пользователей\n",
    "- затем мы вывели данные о количестве минут/сообщений и мб-трафика которое необходимо каждому пользователю в месяц, по фактическому времени\n",
    "- и затем уже с учетом особенностей тарифного плана подсчитали выручку приходящуюся на каждого пользователя\n",
    "- мы выяснили, что примерно 50% продаж в денежном и количественном выражении приходится на города с населением более 1 млн человек, а самый популярный тариф все-таки смарт не зависимо от места положения пользователя"
   ]
  },
  {
   "cell_type": "markdown",
   "metadata": {},
   "source": [
    "## Шаг 3: Проанализируйте данные"
   ]
  },
  {
   "cell_type": "markdown",
   "metadata": {},
   "source": [
    "Опишите поведение клиентов оператора, исходя из выборки. Сколько минут разговора, сколько сообщений и какой объём интернет-трафика требуется пользователям каждого тарифа в месяц\n",
    "___"
   ]
  },
  {
   "cell_type": "markdown",
   "metadata": {},
   "source": [
    "Посчитайте среднее количество, дисперсию и стандартное отклонение. Постройте гистограммы. Опишите распределения\n",
    "___"
   ]
  },
  {
   "cell_type": "markdown",
   "metadata": {},
   "source": [
    "__По длительности звонков__"
   ]
  },
  {
   "cell_type": "code",
   "execution_count": 154,
   "metadata": {},
   "outputs": [
    {
     "name": "stderr",
     "output_type": "stream",
     "text": [
      "/opt/conda/lib/python3.7/site-packages/numpy/core/_asarray.py:83: VisibleDeprecationWarning: Creating an ndarray from ragged nested sequences (which is a list-or-tuple of lists-or-tuples-or ndarrays with different lengths or shapes) is deprecated. If you meant to do this, you must specify 'dtype=object' when creating the ndarray\n",
      "  return array(a, dtype, copy=False, order=order)\n"
     ]
    },
    {
     "data": {
      "text/plain": [
       "'Распределение звонков в месяц'"
      ]
     },
     "metadata": {},
     "output_type": "display_data"
    },
    {
     "data": {
      "text/plain": [
       "<matplotlib.axes._subplots.AxesSubplot at 0x7f1bf2206fd0>"
      ]
     },
     "metadata": {},
     "output_type": "display_data"
    },
    {
     "data": {
      "image/png": "[encoded data removed]",
      "text/plain": [
       "<Figure size 432x288 with 1 Axes>"
      ]
     },
     "metadata": {
      "needs_background": "light"
     },
     "output_type": "display_data"
    }
   ],
   "source": [
    "display(\"Распределение звонков в месяц\", data_calls_users\n",
    "            .pivot_table(index=['user_id','call_month'], columns='tariff', values='duration', aggfunc='sum')\n",
    "            .boxplot()\n",
    ")"
   ]
  },
  {
   "cell_type": "code",
   "execution_count": 155,
   "metadata": {},
   "outputs": [
    {
     "data": {
      "text/plain": [
       "'Потрачено минут на звонки в течении месяца'"
      ]
     },
     "metadata": {},
     "output_type": "display_data"
    },
    {
     "data": {
      "text/plain": [
       "array([[<matplotlib.axes._subplots.AxesSubplot object at 0x7f1bf22633d0>,\n",
       "        <matplotlib.axes._subplots.AxesSubplot object at 0x7f1bf2256610>]],\n",
       "      dtype=object)"
      ]
     },
     "metadata": {},
     "output_type": "display_data"
    },
    {
     "data": {
      "image/png": "[encoded data removed]",
      "text/plain": [
       "<Figure size 720x360 with 2 Axes>"
      ]
     },
     "metadata": {
      "needs_background": "light"
     },
     "output_type": "display_data"
    }
   ],
   "source": [
    "display('Потрачено минут на звонки в течении месяца', data_calls_users\n",
    "            .pivot_table(index=['user_id','call_month'], columns='tariff', values='duration', aggfunc='sum')\n",
    "            .hist(bins=50, figsize=(10,5))\n",
    "\n",
    ")"
   ]
  },
  {
   "cell_type": "code",
   "execution_count": 156,
   "metadata": {},
   "outputs": [
    {
     "data": {
      "text/plain": [
       "tariff\n",
       "smart    464.480508\n",
       "ultra    602.643822\n",
       "dtype: float64"
      ]
     },
     "execution_count": 156,
     "metadata": {},
     "output_type": "execute_result"
    }
   ],
   "source": [
    "#среднее\n",
    "(data_calls_users\n",
    "            .pivot_table(index=['user_id','call_month'], columns='tariff', values='duration', aggfunc='sum')\n",
    "            .mean()\n",
    "\n",
    ")"
   ]
  },
  {
   "cell_type": "code",
   "execution_count": 157,
   "metadata": {
    "scrolled": true
   },
   "outputs": [
    {
     "data": {
      "text/plain": [
       "tariff\n",
       "smart     43019.181436\n",
       "ultra    114026.922992\n",
       "dtype: float64"
      ]
     },
     "execution_count": 157,
     "metadata": {},
     "output_type": "execute_result"
    }
   ],
   "source": [
    "#дисперсия\n",
    "(data_calls_users\n",
    "            .pivot_table(index=['user_id','call_month'], columns='tariff', values='duration', aggfunc='sum')\n",
    "            .var()\n",
    "\n",
    ")"
   ]
  },
  {
   "cell_type": "code",
   "execution_count": 158,
   "metadata": {},
   "outputs": [
    {
     "data": {
      "text/plain": [
       "duration    43019.181436\n",
       "dtype: float64"
      ]
     },
     "execution_count": 158,
     "metadata": {},
     "output_type": "execute_result"
    }
   ],
   "source": [
    "#альтернативный способ расчет дисперсии для выборки по тарифу 'smart' совпадает с вычислением выше, \n",
    "#поэтому используем более удобную запись сверху\n",
    "np.var(data_calls_users\n",
    "            .query('tariff == \"smart\"')\n",
    "            .pivot_table(index=['user_id','call_month'], values='duration', aggfunc='sum'),ddof=1)"
   ]
  },
  {
   "cell_type": "code",
   "execution_count": 159,
   "metadata": {},
   "outputs": [
    {
     "data": {
      "text/plain": [
       "tariff\n",
       "smart    207.410659\n",
       "ultra    337.678727\n",
       "dtype: float64"
      ]
     },
     "execution_count": 159,
     "metadata": {},
     "output_type": "execute_result"
    }
   ],
   "source": [
    "#стандартное отклонение\n",
    "(data_calls_users\n",
    "            .pivot_table(index=['user_id','call_month'], columns='tariff', values='duration', aggfunc='sum')\n",
    "            .std()\n",
    "\n",
    ")"
   ]
  },
  {
   "cell_type": "code",
   "execution_count": 160,
   "metadata": {},
   "outputs": [],
   "source": [
    "#print(\"Распределение индивидуальных звонков\",data_calls_users.boxplot(column='duration'))\n",
    "#plt.show()"
   ]
  },
  {
   "cell_type": "markdown",
   "metadata": {},
   "source": [
    "### Вывод:\n",
    "Оба распределения похожы на распределения Пуассона - количество/частота событий \"звонки\" в единицу времени (месяц).\n",
    "\n",
    "Пользователи тарифа `smart`:\n",
    "1. чаще всего укладываются в объем разговоров до 1000 минут, при том, что ~66% используют ~280-600 минут;\n",
    "1. среднее значение 464 минуты в месяц\n",
    "1. можно ожидать, что 464+/-207: от 257 до 671 минут будет использовано пользователем тарифа, однако есть и те пользователи, которые выходят за рамки 1000 минут\n",
    "\n",
    "Пользователи тарифа `ultra`:\n",
    "1. чаще всего укладываются в объем разговоров до 1500 минут.\n",
    "1. среднее значение 602 минуты в месяц\n",
    "1. можно ожидать что 602+/-337: от 265 до 939 минут будет использовано большинством клиентов этого тарифа"
   ]
  },
  {
   "cell_type": "markdown",
   "metadata": {},
   "source": [
    "__По количеству сообщений__"
   ]
  },
  {
   "cell_type": "code",
   "execution_count": 161,
   "metadata": {
    "scrolled": false
   },
   "outputs": [
    {
     "name": "stderr",
     "output_type": "stream",
     "text": [
      "/opt/conda/lib/python3.7/site-packages/numpy/core/_asarray.py:83: VisibleDeprecationWarning: Creating an ndarray from ragged nested sequences (which is a list-or-tuple of lists-or-tuples-or ndarrays with different lengths or shapes) is deprecated. If you meant to do this, you must specify 'dtype=object' when creating the ndarray\n",
      "  return array(a, dtype, copy=False, order=order)\n"
     ]
    },
    {
     "data": {
      "text/plain": [
       "'Использовано сообщений в месяц'"
      ]
     },
     "metadata": {},
     "output_type": "display_data"
    },
    {
     "data": {
      "text/plain": [
       "<matplotlib.axes._subplots.AxesSubplot at 0x7f1bf2268150>"
      ]
     },
     "metadata": {},
     "output_type": "display_data"
    },
    {
     "data": {
      "image/png": "[encoded data removed]",
      "text/plain": [
       "<Figure size 432x288 with 1 Axes>"
      ]
     },
     "metadata": {
      "needs_background": "light"
     },
     "output_type": "display_data"
    }
   ],
   "source": [
    "display(\"Использовано сообщений в месяц\", data_messages_users\n",
    "            .pivot_table(index=['user_id','message_month'], columns='tariff', values='id', aggfunc='count')\n",
    "            .boxplot()\n",
    ")"
   ]
  },
  {
   "cell_type": "code",
   "execution_count": 162,
   "metadata": {},
   "outputs": [
    {
     "data": {
      "text/plain": [
       "'Использовано сообщений в месяц'"
      ]
     },
     "metadata": {},
     "output_type": "display_data"
    },
    {
     "data": {
      "text/plain": [
       "array([[<matplotlib.axes._subplots.AxesSubplot object at 0x7f1bf235d450>,\n",
       "        <matplotlib.axes._subplots.AxesSubplot object at 0x7f1bf2335110>]],\n",
       "      dtype=object)"
      ]
     },
     "metadata": {},
     "output_type": "display_data"
    },
    {
     "data": {
      "image/png": "[encoded data removed]",
      "text/plain": [
       "<Figure size 720x360 with 2 Axes>"
      ]
     },
     "metadata": {
      "needs_background": "light"
     },
     "output_type": "display_data"
    }
   ],
   "source": [
    "display(\"Использовано сообщений в месяц\", data_messages_users\n",
    "            .pivot_table(index=['user_id','message_month'], columns='tariff', values='id', aggfunc='count')\n",
    "            .hist(bins=50, figsize=(10,5))\n",
    ")"
   ]
  },
  {
   "cell_type": "code",
   "execution_count": 163,
   "metadata": {},
   "outputs": [
    {
     "data": {
      "text/plain": [
       "tariff\n",
       "smart    38.716441\n",
       "ultra    61.161006\n",
       "dtype: float64"
      ]
     },
     "execution_count": 163,
     "metadata": {},
     "output_type": "execute_result"
    }
   ],
   "source": [
    "(data_messages_users\n",
    "            .pivot_table(index=['user_id','message_month'], columns='tariff', values='id', aggfunc='count')\n",
    "            .mean()\n",
    ")"
   ]
  },
  {
   "cell_type": "code",
   "execution_count": 164,
   "metadata": {},
   "outputs": [
    {
     "data": {
      "text/plain": [
       "tariff\n",
       "smart     717.594201\n",
       "ultra    2109.659183\n",
       "dtype: float64"
      ]
     },
     "execution_count": 164,
     "metadata": {},
     "output_type": "execute_result"
    }
   ],
   "source": [
    "(data_messages_users\n",
    "            .pivot_table(index=['user_id','message_month'], columns='tariff', values='id', aggfunc='count')\n",
    "            .var()\n",
    ")"
   ]
  },
  {
   "cell_type": "code",
   "execution_count": 165,
   "metadata": {},
   "outputs": [
    {
     "data": {
      "text/plain": [
       "tariff\n",
       "smart    26.787949\n",
       "ultra    45.931026\n",
       "dtype: float64"
      ]
     },
     "execution_count": 165,
     "metadata": {},
     "output_type": "execute_result"
    }
   ],
   "source": [
    "(data_messages_users\n",
    "            .pivot_table(index=['user_id','message_month'], columns='tariff', values='id', aggfunc='count')\n",
    "            .std()\n",
    ")"
   ]
  },
  {
   "cell_type": "markdown",
   "metadata": {},
   "source": [
    "### Вывод:\n",
    "\n",
    "Также как и по звонкам, распределение отправленных сообщений похоже на распределение Пуассона.\n",
    "\n",
    "Пользователи тарифа `smart`:\n",
    "1. чаще всего укладываются в ~120 сообщений (исходя из графиков)\n",
    "1. среднее значение 38 сообщений в месяц\n",
    "1. можно ожидать, что 38+/-26: от 12 до 64 сообщений будет использовано пользователем тарифа\n",
    "\n",
    "Пользователи тарифа `ultra`:\n",
    "1. чаще всего укладываются в ~170 сообщений\n",
    "1. среднее значение 61 сообщение в месяц\n",
    "1. можно ожидать что 61+/-45: от 16 до 106 сообщений будет использовано большинством клиентов этого тарифа"
   ]
  },
  {
   "cell_type": "markdown",
   "metadata": {},
   "source": [
    "__По объему трафика__"
   ]
  },
  {
   "cell_type": "code",
   "execution_count": 166,
   "metadata": {
    "scrolled": false
   },
   "outputs": [
    {
     "name": "stderr",
     "output_type": "stream",
     "text": [
      "/opt/conda/lib/python3.7/site-packages/numpy/core/_asarray.py:83: VisibleDeprecationWarning: Creating an ndarray from ragged nested sequences (which is a list-or-tuple of lists-or-tuples-or ndarrays with different lengths or shapes) is deprecated. If you meant to do this, you must specify 'dtype=object' when creating the ndarray\n",
      "  return array(a, dtype, copy=False, order=order)\n"
     ]
    },
    {
     "data": {
      "text/plain": [
       "'Использовано интернет-трафика за месяц'"
      ]
     },
     "metadata": {},
     "output_type": "display_data"
    },
    {
     "data": {
      "text/plain": [
       "<matplotlib.axes._subplots.AxesSubplot at 0x7f1bf53976d0>"
      ]
     },
     "metadata": {},
     "output_type": "display_data"
    },
    {
     "data": {
      "image/png": "[encoded data removed]",
      "text/plain": [
       "<Figure size 432x288 with 1 Axes>"
      ]
     },
     "metadata": {
      "needs_background": "light"
     },
     "output_type": "display_data"
    }
   ],
   "source": [
    "display(\"Использовано интернет-трафика за месяц\", data_internet_users\n",
    "            .pivot_table(index=['user_id','session_month'], columns = 'tariff', values='mb_used', aggfunc='sum')\n",
    "            .boxplot()\n",
    ")"
   ]
  },
  {
   "cell_type": "code",
   "execution_count": 167,
   "metadata": {},
   "outputs": [
    {
     "data": {
      "text/plain": [
       "'Использовано интернет-трафика в среднем за месяц'"
      ]
     },
     "metadata": {},
     "output_type": "display_data"
    },
    {
     "data": {
      "text/plain": [
       "array([[<matplotlib.axes._subplots.AxesSubplot object at 0x7f1bf53caa50>,\n",
       "        <matplotlib.axes._subplots.AxesSubplot object at 0x7f1bf53b10d0>]],\n",
       "      dtype=object)"
      ]
     },
     "metadata": {},
     "output_type": "display_data"
    },
    {
     "data": {
      "image/png": "[encoded data removed]",
      "text/plain": [
       "<Figure size 720x360 with 2 Axes>"
      ]
     },
     "metadata": {
      "needs_background": "light"
     },
     "output_type": "display_data"
    }
   ],
   "source": [
    "display(\"Использовано интернет-трафика в среднем за месяц\", data_internet_users\n",
    "            .pivot_table(index=['user_id','session_month'], columns = 'tariff', values='mb_used', aggfunc='sum')\n",
    "            .hist(bins=50, figsize=(10,5))\n",
    ")"
   ]
  },
  {
   "cell_type": "code",
   "execution_count": 168,
   "metadata": {},
   "outputs": [
    {
     "data": {
      "text/plain": [
       "tariff\n",
       "smart    18591.627388\n",
       "ultra    20575.182308\n",
       "dtype: float64"
      ]
     },
     "execution_count": 168,
     "metadata": {},
     "output_type": "execute_result"
    }
   ],
   "source": [
    "(data_internet_users\n",
    "            .pivot_table(index=['user_id','session_month'], columns = 'tariff', values='mb_used', aggfunc='sum')\n",
    "            .mean()\n",
    ")"
   ]
  },
  {
   "cell_type": "code",
   "execution_count": 169,
   "metadata": {},
   "outputs": [
    {
     "data": {
      "text/plain": [
       "tariff\n",
       "smart    4.342983e+07\n",
       "ultra    1.072387e+08\n",
       "dtype: float64"
      ]
     },
     "execution_count": 169,
     "metadata": {},
     "output_type": "execute_result"
    }
   ],
   "source": [
    "(data_internet_users\n",
    "            .pivot_table(index=['user_id','session_month'], columns = 'tariff', values='mb_used', aggfunc='sum')\n",
    "            .var()\n",
    ")"
   ]
  },
  {
   "cell_type": "code",
   "execution_count": 170,
   "metadata": {},
   "outputs": [
    {
     "data": {
      "text/plain": [
       "tariff\n",
       "smart     6590.131450\n",
       "ultra    10355.611276\n",
       "dtype: float64"
      ]
     },
     "execution_count": 170,
     "metadata": {},
     "output_type": "execute_result"
    }
   ],
   "source": [
    "(data_internet_users\n",
    "            .pivot_table(index=['user_id','session_month'], columns = 'tariff', values='mb_used', aggfunc='sum')\n",
    "            .std()\n",
    ")"
   ]
  },
  {
   "cell_type": "markdown",
   "metadata": {},
   "source": [
    "### Вывод:\n",
    "\n",
    "Распределение использованного трафика похоже на нормальное распределение, но чуть скошенное вправо на тарифе ультра и скошенное влево на тарифе смарт.\n",
    "\n",
    "Пользователи тарифа `smart`:\n",
    "1. чаще всего укладываются в ~35 Гб (исходя из графиков)\n",
    "1. среднее значение 18 Гб в месяц\n",
    "1. можно ожидать, что 18+/-6: от 12 до 24 Гб будет использовано пользователем тарифа в течении месяца\n",
    "\n",
    "Пользователи тарифа `ultra`:\n",
    "1. чаще всего укладываются в ~50 Гб\n",
    "1. среднее значение 20 Гб в месяц\n",
    "1. можно ожидать что 20+/-10: от 10 до 30 Гб будет использовано большинством клиентов этого тарифа"
   ]
  },
  {
   "cell_type": "markdown",
   "metadata": {},
   "source": [
    "## Шаг 4: Проверьте гипотезы"
   ]
  },
  {
   "cell_type": "markdown",
   "metadata": {},
   "source": [
    "__Средняя выручка пользователей тарифов «Ультра» и «Смарт» различается__\n",
    "\n",
    "Сформулируем гипотезы так:\n",
    "- H0 = Ср.выручка_пользователи_тарифа_Ультра = Ср.выручка_пользователи_тарифа_Смарт\n",
    "- H1 = Ср.выручка_пользователи_тарифа_Ультра > Ср.выручка_пользователи_тарифа_Смарт\n",
    "\n",
    "Используем \"гипотезу о равенстве средних двух генеральных совокупностей\""
   ]
  },
  {
   "cell_type": "code",
   "execution_count": 171,
   "metadata": {},
   "outputs": [],
   "source": [
    "revenue_smart = data_revenue_combined[data_revenue_combined['tariff'] == 'smart']['revenue_total']\n",
    "revene_ultra = data_revenue_combined[data_revenue_combined['tariff'] == 'ultra']['revenue_total']\n",
    "alpha = 0.05 # критерий статистической значимости"
   ]
  },
  {
   "cell_type": "code",
   "execution_count": 172,
   "metadata": {},
   "outputs": [],
   "source": [
    "results_hyp_1 = st.ttest_ind(revenue_smart,\n",
    "                       revene_ultra,\n",
    "                       equal_var = False\n",
    "                        )"
   ]
  },
  {
   "cell_type": "code",
   "execution_count": 173,
   "metadata": {},
   "outputs": [
    {
     "name": "stdout",
     "output_type": "stream",
     "text": [
      "p-значение:  2.8860335007414165e-45\n",
      "Отверграем нулевую гипотезу\n"
     ]
    }
   ],
   "source": [
    "print(\"p-значение: \", results_hyp_1.pvalue)\n",
    "if results_hyp_1.pvalue < alpha and revenue_smart.mean() < revene_ultra.mean():\n",
    "    print(\"Отверграем нулевую гипотезу\")\n",
    "else:\n",
    "    print(\"Не можем отвергнуть нулевую гипотезу\")"
   ]
  },
  {
   "cell_type": "code",
   "execution_count": 174,
   "metadata": {},
   "outputs": [
    {
     "data": {
      "text/plain": [
       "1721.0031404217139"
      ]
     },
     "execution_count": 174,
     "metadata": {},
     "output_type": "execute_result"
    }
   ],
   "source": [
    "data_revenue_combined[data_revenue_combined['tariff'] == 'smart']['revenue_total'].mean()"
   ]
  },
  {
   "cell_type": "code",
   "execution_count": 175,
   "metadata": {},
   "outputs": [
    {
     "data": {
      "text/plain": [
       "1550.0"
      ]
     },
     "execution_count": 175,
     "metadata": {},
     "output_type": "execute_result"
    }
   ],
   "source": [
    "data_revenue_combined[data_revenue_combined['tariff'] == 'smart']['revenue_total'].median()"
   ]
  },
  {
   "cell_type": "code",
   "execution_count": 176,
   "metadata": {},
   "outputs": [
    {
     "data": {
      "text/plain": [
       "2096.192893401015"
      ]
     },
     "execution_count": 176,
     "metadata": {},
     "output_type": "execute_result"
    }
   ],
   "source": [
    "data_revenue_combined[data_revenue_combined['tariff'] == 'ultra']['revenue_total'].mean()"
   ]
  },
  {
   "cell_type": "code",
   "execution_count": 177,
   "metadata": {},
   "outputs": [
    {
     "data": {
      "text/plain": [
       "1950.0"
      ]
     },
     "execution_count": 177,
     "metadata": {},
     "output_type": "execute_result"
    }
   ],
   "source": [
    "data_revenue_combined[data_revenue_combined['tariff'] == 'ultra']['revenue_total'].median()"
   ]
  },
  {
   "cell_type": "code",
   "execution_count": 178,
   "metadata": {},
   "outputs": [
    {
     "name": "stderr",
     "output_type": "stream",
     "text": [
      "/opt/conda/lib/python3.7/site-packages/numpy/core/_asarray.py:83: VisibleDeprecationWarning: Creating an ndarray from ragged nested sequences (which is a list-or-tuple of lists-or-tuples-or ndarrays with different lengths or shapes) is deprecated. If you meant to do this, you must specify 'dtype=object' when creating the ndarray\n",
      "  return array(a, dtype, copy=False, order=order)\n"
     ]
    },
    {
     "data": {
      "text/plain": [
       "'Разброс выручки по тарифам'"
      ]
     },
     "metadata": {},
     "output_type": "display_data"
    },
    {
     "data": {
      "text/plain": [
       "<matplotlib.axes._subplots.AxesSubplot at 0x7f1bf541c210>"
      ]
     },
     "metadata": {},
     "output_type": "display_data"
    },
    {
     "data": {
      "image/png": "[encoded data removed]",
      "text/plain": [
       "<Figure size 432x288 with 1 Axes>"
      ]
     },
     "metadata": {
      "needs_background": "light"
     },
     "output_type": "display_data"
    }
   ],
   "source": [
    "display(\"Разброс выручки по тарифам\", data_revenue_combined\n",
    "            .pivot_table(index='user_id', columns = 'tariff', values='revenue_total', aggfunc='sum')\n",
    "            .boxplot()\n",
    ")"
   ]
  },
  {
   "cell_type": "markdown",
   "metadata": {},
   "source": [
    "Проверка гипотезы показала, что мы не можем подтвердить равенство средней выручка пользователей тарифов Ультра и Смарт. В нашем случае верна альтернативная гипотеза: средняя выручка по тарифу Ультра выше, чем по тарифу Смарт."
   ]
  },
  {
   "cell_type": "markdown",
   "metadata": {},
   "source": [
    "__Средняя выручка пользователей из Москвы отличается от выручки пользователей из других регионов__\n",
    "\n",
    "Сформулируем гипотезы так:\n",
    "- H0 = Ср.выручка_пользователи_Москвы = Ср.выручка_пользователи_другие_города\n",
    "- H1 = Ср.выручка_пользователи_Москвы != Ср.выручка_пользователи_другие_города\n",
    "\n",
    "Используем \"гипотезу о равенстве средних двух генеральных совокупностей\""
   ]
  },
  {
   "cell_type": "code",
   "execution_count": 179,
   "metadata": {},
   "outputs": [],
   "source": [
    "revenue_Moscow = data_revenue_combined[data_revenue_combined['city'] == 'Москва']['revenue_total']\n",
    "revene_non_Moscow = data_revenue_combined[data_revenue_combined['city'] != 'Москва']['revenue_total']"
   ]
  },
  {
   "cell_type": "code",
   "execution_count": 180,
   "metadata": {},
   "outputs": [],
   "source": [
    "results_hyp_2 = st.ttest_ind(revenue_Moscow,\n",
    "                       revene_non_Moscow,\n",
    "                       equal_var = False\n",
    "                        )"
   ]
  },
  {
   "cell_type": "code",
   "execution_count": 181,
   "metadata": {},
   "outputs": [
    {
     "name": "stdout",
     "output_type": "stream",
     "text": [
      "p-значение:  0.728473476079514\n",
      "Не можем отвергнуть нулевую гипотезу\n"
     ]
    }
   ],
   "source": [
    "print(\"p-значение: \", results_hyp_2.pvalue)\n",
    "if results_hyp_2.pvalue < alpha:\n",
    "    print(\"Отверграем нулевую гипотезу\")\n",
    "else:\n",
    "    print(\"Не можем отвергнуть нулевую гипотезу\")"
   ]
  },
  {
   "cell_type": "markdown",
   "metadata": {},
   "source": [
    "У нас ~83% вероятности, что средняя выручка пользователей Москвы и других городов схожи, слишком много чтобы отвергнуть нулевую гипотезу. Также на данных выше (круговая диаграмма) мы видели, что на Москву и другие города миллионники приходится порядка 50% и оставшуиеся города вторые 50%."
   ]
  },
  {
   "cell_type": "markdown",
   "metadata": {},
   "source": [
    "__Проверю насколько выручка с тарифа соотносится с затратами__\n",
    "\n",
    "Исхожу из того, что мб интернета, минута звонка и одно сообщение имеют одинаковую стоимость (в затратах) для \"Мегалайн\""
   ]
  },
  {
   "cell_type": "code",
   "execution_count": 182,
   "metadata": {},
   "outputs": [
    {
     "data": {
      "text/html": [
       "<div>\n",
       "<style scoped>\n",
       "    .dataframe tbody tr th:only-of-type {\n",
       "        vertical-align: middle;\n",
       "    }\n",
       "\n",
       "    .dataframe tbody tr th {\n",
       "        vertical-align: top;\n",
       "    }\n",
       "\n",
       "    .dataframe thead th {\n",
       "        text-align: right;\n",
       "    }\n",
       "</style>\n",
       "<table border=\"1\" class=\"dataframe\">\n",
       "  <thead>\n",
       "    <tr style=\"text-align: right;\">\n",
       "      <th></th>\n",
       "      <th>revenue_per_minute</th>\n",
       "    </tr>\n",
       "    <tr>\n",
       "      <th>tariff</th>\n",
       "      <th></th>\n",
       "    </tr>\n",
       "  </thead>\n",
       "  <tbody>\n",
       "    <tr>\n",
       "      <td>smart</td>\n",
       "      <td>0.364333</td>\n",
       "    </tr>\n",
       "    <tr>\n",
       "      <td>ultra</td>\n",
       "      <td>0.000000</td>\n",
       "    </tr>\n",
       "  </tbody>\n",
       "</table>\n",
       "</div>"
      ],
      "text/plain": [
       "        revenue_per_minute\n",
       "tariff                    \n",
       "smart             0.364333\n",
       "ultra             0.000000"
      ]
     },
     "execution_count": 182,
     "metadata": {},
     "output_type": "execute_result"
    }
   ],
   "source": [
    "#по звонкам\n",
    "#при этом полагаю, что стоимость минуты звонка для компании \"Мегалайн\" одинаковая\n",
    "data_calls_users_grouped2 = data_calls_users.pivot_table(index=['user_id','call_month'], values = 'duration', aggfunc='sum')\n",
    "data_calls_users_grouped2 = data_calls_users_grouped2.reset_index(level=['user_id', 'call_month'])\n",
    "data_calls_users_grouped2.rename(columns={'call_month': 'month'}, inplace=True)\n",
    "revenue_vs_cost_calls = data_revenue_combined.merge(data_calls_users_grouped2, on=['user_id','month'], how='left')\n",
    "revenue_vs_cost_calls['revenue_per_minute'] = revenue_vs_cost_calls['revenue_calls'] / revenue_vs_cost_calls['duration']\n",
    "revenue_vs_cost_calls.pivot_table(index='tariff', values='revenue_per_minute', aggfunc='mean')"
   ]
  },
  {
   "cell_type": "code",
   "execution_count": 183,
   "metadata": {},
   "outputs": [
    {
     "data": {
      "text/html": [
       "<div>\n",
       "<style scoped>\n",
       "    .dataframe tbody tr th:only-of-type {\n",
       "        vertical-align: middle;\n",
       "    }\n",
       "\n",
       "    .dataframe tbody tr th {\n",
       "        vertical-align: top;\n",
       "    }\n",
       "\n",
       "    .dataframe thead th {\n",
       "        text-align: right;\n",
       "    }\n",
       "</style>\n",
       "<table border=\"1\" class=\"dataframe\">\n",
       "  <thead>\n",
       "    <tr style=\"text-align: right;\">\n",
       "      <th></th>\n",
       "      <th>revenue_per_message</th>\n",
       "    </tr>\n",
       "    <tr>\n",
       "      <th>tariff</th>\n",
       "      <th></th>\n",
       "    </tr>\n",
       "  </thead>\n",
       "  <tbody>\n",
       "    <tr>\n",
       "      <td>smart</td>\n",
       "      <td>0.244</td>\n",
       "    </tr>\n",
       "    <tr>\n",
       "      <td>ultra</td>\n",
       "      <td>0.000</td>\n",
       "    </tr>\n",
       "  </tbody>\n",
       "</table>\n",
       "</div>"
      ],
      "text/plain": [
       "        revenue_per_message\n",
       "tariff                     \n",
       "smart                 0.244\n",
       "ultra                 0.000"
      ]
     },
     "execution_count": 183,
     "metadata": {},
     "output_type": "execute_result"
    }
   ],
   "source": [
    "#проведу аналогичный расчет по выручке с одного смс сообщения по разным тарифам\n",
    "data_messages_users_grouped2 = data_messages_users.pivot_table(index=['user_id','message_month'], values = 'id', aggfunc='count')\n",
    "data_messages_users_grouped2 = data_messages_users_grouped2.reset_index(level=['message_month', 'user_id'])\n",
    "data_messages_users_grouped2.rename(columns={'message_month': 'month', 'id': 'messages_sent'}, inplace=True)\n",
    "revenue_vs_cost_messages = data_revenue_combined.merge(data_messages_users_grouped2, on=['user_id','month'], how='left')\n",
    "revenue_vs_cost_messages['revenue_per_message'] = revenue_vs_cost_messages['revenue_messages'] / revenue_vs_cost_messages['messages_sent']\n",
    "revenue_vs_cost_messages.pivot_table(index='tariff', values='revenue_per_message', aggfunc='mean')"
   ]
  },
  {
   "cell_type": "code",
   "execution_count": 184,
   "metadata": {},
   "outputs": [
    {
     "data": {
      "text/html": [
       "<div>\n",
       "<style scoped>\n",
       "    .dataframe tbody tr th:only-of-type {\n",
       "        vertical-align: middle;\n",
       "    }\n",
       "\n",
       "    .dataframe tbody tr th {\n",
       "        vertical-align: top;\n",
       "    }\n",
       "\n",
       "    .dataframe thead th {\n",
       "        text-align: right;\n",
       "    }\n",
       "</style>\n",
       "<table border=\"1\" class=\"dataframe\">\n",
       "  <thead>\n",
       "    <tr style=\"text-align: right;\">\n",
       "      <th></th>\n",
       "      <th>revenue_per_mb</th>\n",
       "    </tr>\n",
       "    <tr>\n",
       "      <th>tariff</th>\n",
       "      <th></th>\n",
       "    </tr>\n",
       "  </thead>\n",
       "  <tbody>\n",
       "    <tr>\n",
       "      <td>smart</td>\n",
       "      <td>0.037646</td>\n",
       "    </tr>\n",
       "    <tr>\n",
       "      <td>ultra</td>\n",
       "      <td>0.003739</td>\n",
       "    </tr>\n",
       "  </tbody>\n",
       "</table>\n",
       "</div>"
      ],
      "text/plain": [
       "        revenue_per_mb\n",
       "tariff                \n",
       "smart         0.037646\n",
       "ultra         0.003739"
      ]
     },
     "execution_count": 184,
     "metadata": {},
     "output_type": "execute_result"
    }
   ],
   "source": [
    "#и наконец, аналогичный расчет для использования интернет трафика\n",
    "data_internet_users_grouped2 = data_internet_users.pivot_table(index=['user_id','session_month'], values = 'mb_used', aggfunc='sum')\n",
    "data_internet_users_grouped2 = data_internet_users_grouped2.reset_index(level=['user_id', 'session_month'])\n",
    "data_internet_users_grouped2.rename(columns={'session_month': 'month'}, inplace=True)\n",
    "revenue_vs_cost_internet = data_revenue_combined.merge(data_internet_users_grouped2, on=['user_id','month'], how='left')\n",
    "revenue_vs_cost_internet['revenue_per_mb'] = revenue_vs_cost_internet['revenue_internet'] / revenue_vs_cost_internet['mb_used']\n",
    "revenue_vs_cost_internet.pivot_table(index='tariff', values='revenue_per_mb', aggfunc='mean')"
   ]
  },
  {
   "cell_type": "code",
   "execution_count": 185,
   "metadata": {},
   "outputs": [
    {
     "data": {
      "text/plain": [
       "38.71644120707596"
      ]
     },
     "execution_count": 185,
     "metadata": {},
     "output_type": "execute_result"
    }
   ],
   "source": [
    "revenue_vs_cost_messages.query('tariff == \"smart\"')['messages_sent'].mean()"
   ]
  },
  {
   "cell_type": "code",
   "execution_count": 186,
   "metadata": {},
   "outputs": [
    {
     "data": {
      "image/png": "[encoded data removed]",
      "text/plain": [
       "<Figure size 576x432 with 1 Axes>"
      ]
     },
     "metadata": {
      "needs_background": "light"
     },
     "output_type": "display_data"
    }
   ],
   "source": [
    "#задаем данные для постраения grouped bar chart\n",
    "labels_usage = ['Пакет минут', 'Пакет сообщений', 'Пакет Мб']\n",
    "\n",
    "smart_usage = [(revenue_vs_cost_calls.query('tariff == \"smart\"')['duration'].mean() / smart_basic_minutes).round(2), \n",
    "               (revenue_vs_cost_messages.query('tariff == \"smart\"')['messages_sent'].mean() / smart_basic_messages).round(2), \n",
    "               (revenue_vs_cost_internet.query('tariff == \"smart\"')['mb_used'].mean()/ smart_basic_internet).round(2)\n",
    "              ]\n",
    "\n",
    "ultra_usage = [(revenue_vs_cost_calls.query('tariff == \"ultra\"')['duration'].mean() / ultra_basic_minutes).round(2), \n",
    "               (revenue_vs_cost_messages.query('tariff == \"ultra\"')['messages_sent'].mean() / ultra_basic_messages).round(2), \n",
    "               (revenue_vs_cost_internet.query('tariff == \"ultra\"')['mb_used'].mean()/ ultra_basic_internet).round(2)\n",
    "              ]\n",
    "\n",
    "x = np.arange(len(labels_usage))  # the label locations\n",
    "width = 0.35  # the width of the bars\n",
    "\n",
    "fig, ax = plt.subplots(figsize=(8,6))\n",
    "rects1 = ax.bar(x - width/2, smart_usage, width, label='Smart')\n",
    "rects2 = ax.bar(x + width/2, ultra_usage, width, label='Ultra')\n",
    "\n",
    "ax.set_ylabel('Доля использования пакета')\n",
    "ax.set_title('Коэффициенты использования стандартных пакетов')\n",
    "ax.set_xticks(x)\n",
    "ax.set_xticklabels(labels_usage)\n",
    "ax.legend()\n",
    "\n",
    "def autolabel(rects):\n",
    "    \n",
    "    for rect in rects:\n",
    "        height = rect.get_height()\n",
    "        ax.annotate('{}'.format(height),\n",
    "                    xy=(rect.get_x() + rect.get_width() / 2, height),\n",
    "                    xytext=(0, 3),  \n",
    "                    textcoords=\"offset points\",\n",
    "                    ha='center', va='bottom')\n",
    "\n",
    "\n",
    "autolabel(rects1)\n",
    "autolabel(rects2)\n",
    "\n",
    "fig.tight_layout()\n",
    "\n",
    "plt.show()"
   ]
  },
  {
   "cell_type": "markdown",
   "metadata": {},
   "source": [
    "### Общий вывод:\n",
    "\n",
    "1. В 2018 году тариф приносивший большую долю выручки - это `smart` ~ 64%, однако выручка приходящаяся на одного абонента в этом тарифе ниже, чем у тарифа `ultra` примерно на 25% (сравниваю ср.выручка ultra по отношению к smart). Кроме того затраты абонентов `ultra` больше скошены вправо, что говорит о большем потенциале роста продаж в этом тарифе. \n",
    "1. Мы увидели что пользователи `smart` существенно чаще не укладываются в базовый пакет и им приходится доплачивать за услуги, а среднее использование трафика, количества сообщений и звонков в целом в двух тарифах не сильно отличаются, хоть и разброс значений в тарифе `ultra` гораздо шире.\n",
    "1. Основную прибыльность тарифа `ultra` формирует абонентская плата, в то время как по тарифу `smart` это постоянные доплаты за превышение в основном интернет трафика.\n",
    "\n",
    "\n",
    "_Мы делаем вывод, что для продвижения будет лучше направлять средства на поддержку тарифа `ultra`, как тариф с большим потенциалом роста трат абонентов, с большей прибыльностью (за счет абонентской платы) и средней выручкой статистически значимо большей чем у другого тарифа._\n",
    "\n",
    "__Комментарий по ходу работы:__\n",
    "\n",
    "1. Мы начали с предобработки данных: в частности удалили лишний столбец в таблице `data_internet`, исследовали природу нулевых значений звонков/интернет сессий и произвели замену нулей на медианные значений по каждому пользователю. \n",
    "1. После чего мы начали готовить данные для анализа, в частности создали таблицы подсчитывающие использование методов связи в среднем по месяцу.\n",
    "1. Также мы обратили внимание, что в целом с начала 2018 года произошел рост количества пользователей обоих тарифов, но по более премиальному тарифу `ultra` рост ожидаемо был ниже и доля тарифа в течении года составила примерно ~36% в выручке \"Мегалайн\". К тому же, среди тех клиентов кто отказался от \"Мегалайн\" были как те кто пользовался Ультра, так и те кто пользовался Смарт в среднем оставались клиентами по 4 месяца (здесь проверили гипотезу о равенстве средней длительности пользования). Ожидаемо количество пользователей \"Мегалайн\" оказалось больше в крупных городах Москве и Санкт-Петербурге, в остальных городах миллионниках доли примерно одинаковые. \n",
    "1. Во время анализа данных удалось выявить, что в среднем выручка по тарифу Ультра равно, как и разброс больше нежели по тарифу Смарт. Уже ближе к концу исследования мы посмотрели как расходуется стандартные пакеты в каждом из тарифов.\n",
    "1. В задании по проверке статистических гипотез мы задавали нулевой гипотезой гипотезы о равенстве. В частности гипотеза о равенстве средней выручке по тарифам была отвергнута, а гипотеза о равенстве по выручке между Москвой и другими городами не была отвергнута."
   ]
  },
  {
   "cell_type": "code",
   "execution_count": null,
   "metadata": {},
   "outputs": [],
   "source": []
  }
 ],
 "metadata": {
  "kernelspec": {
   "display_name": "Python 3",
   "language": "python",
   "name": "python3"
  },
  "language_info": {
   "codemirror_mode": {
    "name": "ipython",
    "version": 3
   },
   "file_extension": ".py",
   "mimetype": "text/x-python",
   "name": "python",
   "nbconvert_exporter": "python",
   "pygments_lexer": "ipython3",
   "version": "3.6.11"
  },
  "toc": {
   "base_numbering": 1,
   "nav_menu": {},
   "number_sections": true,
   "sideBar": true,
   "skip_h1_title": false,
   "title_cell": "Table of Contents",
   "title_sidebar": "Contents",
   "toc_cell": false,
   "toc_position": {},
   "toc_section_display": true,
   "toc_window_display": false
  }
 },
 "nbformat": 4,
 "nbformat_minor": 2
}
