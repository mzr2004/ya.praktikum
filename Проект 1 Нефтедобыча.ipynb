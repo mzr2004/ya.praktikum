{
 "cells": [
  {
   "cell_type": "markdown",
   "metadata": {},
   "source": [
    "<div style=\"border:solid black 2px; padding: 20px\">\n",
    "<b>Марат, привет!</b>\n",
    "\n",
    "Меня зовут Полина Бережная, и я буду делать ревью проекта по МО в бизнесе. Давай будем общаться на «ты». Но если тебе комфортнее на «вы», обязательно сообщи мне об этом. \n",
    "\n",
    "Твой проект просто 🔥🔥🔥. Мне было очень приятно проверять работу, так как чувствуется твое старание и желание сделать задание на достойном уровне. Однако есть один момент, который требует твоего внимания и доработки.\n",
    "\n",
    "В тетрадке ты можешь встретить 4 вида моих комментариев:\n",
    "- <div class=\"alert alert-danger\">\n",
    "  <h3>Комментарий ревьюера</h3> Такой нюанс требует обязательной доработки, иначе проект не будет принят.\n",
    "  </div>\n",
    "    \n",
    "    \n",
    "- <div class=\"alert alert-warning\">\n",
    "  <h3>Комментарий ревьюера</h3> Так выделены не обязательные к доработке моменты. Mожешь учесть их при редактировании проекта и выполнении будущих заданий. На твое усмотрение.\n",
    "  </div>\n",
    "    \n",
    "    \n",
    "- <div class=\"alert alert-success\">\n",
    "  <h3>Комментарий ревьюера</h3> Так отмечены удачные решения и подходы, на которые стоит опираться в будущих проектах.\n",
    "  </div>\n",
    "    \n",
    "    \n",
    "- <div style=\"border:solid black 2px; padding: 20px\">\n",
    "  <h3>Чек-лист доработок</h3> Такой комментарий будет находиться в конце тетрадки. В нем будут еще раз указаны нюансы, требующие обязательной корректировки.\n",
    "  </div>\n",
    "\n",
    "Предлагаю работать над проектом в форме диалога: если ты **что-то меняешь** в работе по моим рекомендациям — **пиши об этом** и помечай комментарий каким-то заметным цветом.\n",
    "    \n",
    "Пожалуйста, **не перемещай, не изменяй и не удаляй мои комментарии**. Такой формат работы поможет выполнить повторную проверку твоего проекта оперативнее.\n",
    "    \n",
    "Не переживай, если что-то не получилось сделать идеально с первого раза. Основная цель нашей команды - не найти ошибки, а поделиться своим опытом и помочь тебе стать профи в Data Science 🙂\n",
    "    \n",
    "   \n",
    "Жду твой проект на повторное ревью, ты уже почти на финише!\n",
    "\n",
    "</div>"
   ]
  },
  {
   "cell_type": "markdown",
   "metadata": {},
   "source": [
    "<div class=\"alert alert-block alert-info\">\n",
    "<b>КОММЕНТАРИЙ СТУДЕНТА: Полина, привет! Приятно познакомиться и спасибо, что помогаешь мне учиться. Я оставил свой комментарий в таком синем блоке ближе к концу проекта - где нужно было досчитать риски убытков. Подумал, что если я риск выражу в % вероятности, то это будет показательно, надеюсь, что понимание мое было верным. </b>\n",
    "</div>"
   ]
  },
  {
   "cell_type": "markdown",
   "metadata": {},
   "source": [
    "<div style=\"border:solid black 2px; padding: 20px\">\n",
    "<b>Марат, привет еще раз!</b>\n",
    "\n",
    "Ты отлично поработал, я бы сказала на все 200%! Проект принят! Если вдруг будут какие-то вопросы, свяжись со мной через куратора.\n",
    "    \n",
    "Успехов тебе во всех начинаниях!"
   ]
  },
  {
   "cell_type": "markdown",
   "metadata": {},
   "source": [
    "# Описание проекта"
   ]
  },
  {
   "cell_type": "markdown",
   "metadata": {},
   "source": [
    "Допустим, вы работаете в добывающей компании «ГлавРосГосНефть». Нужно решить, где бурить новую скважину.\n",
    "\n",
    "Вам предоставлены пробы нефти в трёх регионах: в каждом 10 000 месторождений, где измерили качество нефти и объём её запасов. Постройте модель машинного обучения, которая поможет определить регион, где добыча принесёт наибольшую прибыль. Проанализируйте возможную прибыль и риски техникой *Bootstrap.*\n",
    "\n",
    "Шаги для выбора локации:\n",
    "\n",
    "- В избранном регионе ищут месторождения, для каждого определяют значения признаков;\n",
    "- Строят модель и оценивают объём запасов;\n",
    "- Выбирают месторождения с самым высокими оценками значений. Количество месторождений зависит от бюджета компании и стоимости разработки одной скважины;\n",
    "- Прибыль равна суммарной прибыли отобранных месторождений."
   ]
  },
  {
   "cell_type": "markdown",
   "metadata": {},
   "source": [
    "# Содержание"
   ]
  },
  {
   "cell_type": "markdown",
   "metadata": {},
   "source": [
    "[Общая концепция проекта](#step0)\n",
    "\n",
    "[Шаг 1: Загрузка и подготовка данных](#step1)\n",
    " - [Шаг 1.1.: Загрузим библиотеки проекта](#step1_1)\n",
    " - [Шаг 1.2.: Загрузим данные и изучим](#step1_2)\n",
    " - [Шаг 1.3.: Удалим идентификаторы месторождений](#step1_3)\n",
    " - [Промежуточные выводы](#step1_last)\n",
    "  \n",
    "[Шаг 2: Обучение и проверка модели](#step2)\n",
    " - [Шаг 2.1. Разбиваем данные на 2 сета](#step2_1)\n",
    " - [Шаг 2.2. Проводим масштабирование данных](#step2_2)\n",
    " - [Шаг 2.3. Выделяем признаки](#step2_3)\n",
    " - [Шаг 2.4. Обучаем модели](#step2_4)\n",
    " - [Шаг 2.5. Оценим качество моделей](#step2_5)\n",
    " - [Промежуточные выводы](#step2_last)\n",
    "\n",
    "[Шаг 3: Подготовка к расчету прибыли](#step3)\n",
    "- [Шаг 3.1. Сохраняем ключевые данные в отдельных переменных](#step3_1)\n",
    "- [Шаг 3.2. Расчитываем достаточный объем сырья для безубыточной разработки скважин](#step3_2)\n",
    "- [Промежуточные выводы](#step3_last)\n",
    "\n",
    "[Шаг 4: Расчет прибыли и рисков](#step4)\n",
    "- [Шаг 4.1. Функция для расчета прибыли по выбранным скважинам](#step4_1)\n",
    "- [Шаг 4.2. Выбираем скважины с максимальными значениями предсказаний](#step4_2)\n",
    "- [Шаг 4.3. Расчитаем прибыль для выбранноего объема сырья](#step4_3)\n",
    "- [Шаг 4.4. Применим `bootstrap` чтобы найти распределение прибыли и рисков](#step4_4)\n",
    "- [Шаг 4.5. Сравним экономику месторождений](#step4_5)\n",
    "\n",
    "[Выводы и рекомендации](#step_last)"
   ]
  },
  {
   "cell_type": "markdown",
   "metadata": {},
   "source": [
    "<a id='step0'></a>"
   ]
  },
  {
   "cell_type": "markdown",
   "metadata": {},
   "source": [
    "# Общая концепция проекта\n",
    "\n",
    "1. Нужно из 3х месторождений выбрать 1 в котором мы сделаем 500 скважин, но добывать будем только из 200 самых лучших (с точки зрения прибыли).\n",
    "1. Рекомендовано применять `линейную регрессию` в качестве модели прогнозирования.\n",
    "1. После того, как мы выбрали прогноз топовых скважин с помощью модели, нужно будет оценить в фактических данных, которые соответствуют этим прогнозам какие запасы продукта и какова будет прибыль."
   ]
  },
  {
   "cell_type": "markdown",
   "metadata": {},
   "source": [
    "<div class=\"alert alert-success\">\n",
    "<h3> Комментарий ревьювера</h3>\n",
    "\n",
    "Здорово, что перед кодом есть описание задач проекта и данных, а также план твоих действий. Да и все оформление тетрадки выполнено на достойном уровне. Она рассказывает историю за тебя и показывает как твои кодинговые навыки, так и умение анализировать и преподносить информацию 👍🏻\n",
    "    \n",
    "Отдельно хочется похвалить за навигацию :)"
   ]
  },
  {
   "cell_type": "markdown",
   "metadata": {},
   "source": [
    "<a id='step1'></a>"
   ]
  },
  {
   "cell_type": "markdown",
   "metadata": {},
   "source": [
    "# 1. Загрузка и подготовка данных"
   ]
  },
  {
   "cell_type": "markdown",
   "metadata": {},
   "source": [
    "<a id='step1_1'></a>"
   ]
  },
  {
   "cell_type": "markdown",
   "metadata": {},
   "source": [
    "## 1.1. Загрузим библиотеки проекта"
   ]
  },
  {
   "cell_type": "code",
   "execution_count": 1,
   "metadata": {},
   "outputs": [],
   "source": [
    "#основные модули\n",
    "import pandas as pd \n",
    "import numpy as np\n",
    "from scipy import stats\n",
    "from IPython.display import display\n",
    "import matplotlib.pyplot as plt\n",
    "import warnings\n",
    "\n",
    "#модули для построения модели\n",
    "from sklearn.linear_model import LinearRegression\n",
    "from sklearn.model_selection import train_test_split\n",
    "from sklearn.utils import shuffle\n",
    "from sklearn.preprocessing import StandardScaler\n",
    "from sklearn.metrics import mean_squared_error, r2_score, mean_absolute_error"
   ]
  },
  {
   "cell_type": "markdown",
   "metadata": {},
   "source": [
    "<a id='step1_2'></a>"
   ]
  },
  {
   "cell_type": "markdown",
   "metadata": {},
   "source": [
    "## 1.2. Загрузим данные и изучим"
   ]
  },
  {
   "cell_type": "code",
   "execution_count": 2,
   "metadata": {},
   "outputs": [],
   "source": [
    "data0 = pd.read_csv(\"/datasets/geo_data_0.csv\")\n",
    "data1 = pd.read_csv(\"/datasets/geo_data_1.csv\")\n",
    "data2 = pd.read_csv(\"/datasets/geo_data_2.csv\")"
   ]
  },
  {
   "cell_type": "code",
   "execution_count": 3,
   "metadata": {
    "scrolled": true
   },
   "outputs": [
    {
     "name": "stdout",
     "output_type": "stream",
     "text": [
      "---Данные по первому месторождению---\n",
      "\n",
      "<class 'pandas.core.frame.DataFrame'>\n",
      "RangeIndex: 100000 entries, 0 to 99999\n",
      "Data columns (total 5 columns):\n",
      "id         100000 non-null object\n",
      "f0         100000 non-null float64\n",
      "f1         100000 non-null float64\n",
      "f2         100000 non-null float64\n",
      "product    100000 non-null float64\n",
      "dtypes: float64(4), object(1)\n",
      "memory usage: 3.8+ MB\n",
      "\n",
      "---Данные по второму месторождению--\n",
      "\n",
      "<class 'pandas.core.frame.DataFrame'>\n",
      "RangeIndex: 100000 entries, 0 to 99999\n",
      "Data columns (total 5 columns):\n",
      "id         100000 non-null object\n",
      "f0         100000 non-null float64\n",
      "f1         100000 non-null float64\n",
      "f2         100000 non-null float64\n",
      "product    100000 non-null float64\n",
      "dtypes: float64(4), object(1)\n",
      "memory usage: 3.8+ MB\n",
      "\n",
      "---Данные по третьему месторождению--\n",
      "\n",
      "<class 'pandas.core.frame.DataFrame'>\n",
      "RangeIndex: 100000 entries, 0 to 99999\n",
      "Data columns (total 5 columns):\n",
      "id         100000 non-null object\n",
      "f0         100000 non-null float64\n",
      "f1         100000 non-null float64\n",
      "f2         100000 non-null float64\n",
      "product    100000 non-null float64\n",
      "dtypes: float64(4), object(1)\n",
      "memory usage: 3.8+ MB\n"
     ]
    }
   ],
   "source": [
    "print(\"---Данные по первому месторождению---\")\n",
    "print()\n",
    "data0.info()\n",
    "print()\n",
    "print(\"---Данные по второму месторождению--\")\n",
    "print()\n",
    "data1.info()\n",
    "print()\n",
    "print(\"---Данные по третьему месторождению--\")\n",
    "print()\n",
    "data2.info()"
   ]
  },
  {
   "cell_type": "markdown",
   "metadata": {},
   "source": [
    "__Отобразим данные по первому месторождению, чтобы оценить данные__"
   ]
  },
  {
   "cell_type": "code",
   "execution_count": 4,
   "metadata": {},
   "outputs": [
    {
     "data": {
      "text/html": [
       "<div>\n",
       "<style scoped>\n",
       "    .dataframe tbody tr th:only-of-type {\n",
       "        vertical-align: middle;\n",
       "    }\n",
       "\n",
       "    .dataframe tbody tr th {\n",
       "        vertical-align: top;\n",
       "    }\n",
       "\n",
       "    .dataframe thead th {\n",
       "        text-align: right;\n",
       "    }\n",
       "</style>\n",
       "<table border=\"1\" class=\"dataframe\">\n",
       "  <thead>\n",
       "    <tr style=\"text-align: right;\">\n",
       "      <th></th>\n",
       "      <th>id</th>\n",
       "      <th>f0</th>\n",
       "      <th>f1</th>\n",
       "      <th>f2</th>\n",
       "      <th>product</th>\n",
       "    </tr>\n",
       "  </thead>\n",
       "  <tbody>\n",
       "    <tr>\n",
       "      <td>0</td>\n",
       "      <td>kBEdx</td>\n",
       "      <td>-15.001348</td>\n",
       "      <td>-8.276000</td>\n",
       "      <td>-0.005876</td>\n",
       "      <td>3.179103</td>\n",
       "    </tr>\n",
       "    <tr>\n",
       "      <td>1</td>\n",
       "      <td>62mP7</td>\n",
       "      <td>14.272088</td>\n",
       "      <td>-3.475083</td>\n",
       "      <td>0.999183</td>\n",
       "      <td>26.953261</td>\n",
       "    </tr>\n",
       "    <tr>\n",
       "      <td>2</td>\n",
       "      <td>vyE1P</td>\n",
       "      <td>6.263187</td>\n",
       "      <td>-5.948386</td>\n",
       "      <td>5.001160</td>\n",
       "      <td>134.766305</td>\n",
       "    </tr>\n",
       "    <tr>\n",
       "      <td>3</td>\n",
       "      <td>KcrkZ</td>\n",
       "      <td>-13.081196</td>\n",
       "      <td>-11.506057</td>\n",
       "      <td>4.999415</td>\n",
       "      <td>137.945408</td>\n",
       "    </tr>\n",
       "    <tr>\n",
       "      <td>4</td>\n",
       "      <td>AHL4O</td>\n",
       "      <td>12.702195</td>\n",
       "      <td>-8.147433</td>\n",
       "      <td>5.004363</td>\n",
       "      <td>134.766305</td>\n",
       "    </tr>\n",
       "    <tr>\n",
       "      <td>...</td>\n",
       "      <td>...</td>\n",
       "      <td>...</td>\n",
       "      <td>...</td>\n",
       "      <td>...</td>\n",
       "      <td>...</td>\n",
       "    </tr>\n",
       "    <tr>\n",
       "      <td>99995</td>\n",
       "      <td>QywKC</td>\n",
       "      <td>9.535637</td>\n",
       "      <td>-6.878139</td>\n",
       "      <td>1.998296</td>\n",
       "      <td>53.906522</td>\n",
       "    </tr>\n",
       "    <tr>\n",
       "      <td>99996</td>\n",
       "      <td>ptvty</td>\n",
       "      <td>-10.160631</td>\n",
       "      <td>-12.558096</td>\n",
       "      <td>5.005581</td>\n",
       "      <td>137.945408</td>\n",
       "    </tr>\n",
       "    <tr>\n",
       "      <td>99997</td>\n",
       "      <td>09gWa</td>\n",
       "      <td>-7.378891</td>\n",
       "      <td>-3.084104</td>\n",
       "      <td>4.998651</td>\n",
       "      <td>137.945408</td>\n",
       "    </tr>\n",
       "    <tr>\n",
       "      <td>99998</td>\n",
       "      <td>rqwUm</td>\n",
       "      <td>0.665714</td>\n",
       "      <td>-6.152593</td>\n",
       "      <td>1.000146</td>\n",
       "      <td>30.132364</td>\n",
       "    </tr>\n",
       "    <tr>\n",
       "      <td>99999</td>\n",
       "      <td>relB0</td>\n",
       "      <td>-3.426139</td>\n",
       "      <td>-7.794274</td>\n",
       "      <td>-0.003299</td>\n",
       "      <td>3.179103</td>\n",
       "    </tr>\n",
       "  </tbody>\n",
       "</table>\n",
       "<p>100000 rows × 5 columns</p>\n",
       "</div>"
      ],
      "text/plain": [
       "          id         f0         f1        f2     product\n",
       "0      kBEdx -15.001348  -8.276000 -0.005876    3.179103\n",
       "1      62mP7  14.272088  -3.475083  0.999183   26.953261\n",
       "2      vyE1P   6.263187  -5.948386  5.001160  134.766305\n",
       "3      KcrkZ -13.081196 -11.506057  4.999415  137.945408\n",
       "4      AHL4O  12.702195  -8.147433  5.004363  134.766305\n",
       "...      ...        ...        ...       ...         ...\n",
       "99995  QywKC   9.535637  -6.878139  1.998296   53.906522\n",
       "99996  ptvty -10.160631 -12.558096  5.005581  137.945408\n",
       "99997  09gWa  -7.378891  -3.084104  4.998651  137.945408\n",
       "99998  rqwUm   0.665714  -6.152593  1.000146   30.132364\n",
       "99999  relB0  -3.426139  -7.794274 -0.003299    3.179103\n",
       "\n",
       "[100000 rows x 5 columns]"
      ]
     },
     "metadata": {},
     "output_type": "display_data"
    }
   ],
   "source": [
    "display(data1)"
   ]
  },
  {
   "cell_type": "markdown",
   "metadata": {},
   "source": [
    "<a id='step1_3'></a>"
   ]
  },
  {
   "cell_type": "markdown",
   "metadata": {},
   "source": [
    "## 1.3. Удалим идентификаторы месторождений\n",
    "___\n",
    "Поскольку от этого параметра фактически не зависит производительность скважин"
   ]
  },
  {
   "cell_type": "code",
   "execution_count": 5,
   "metadata": {},
   "outputs": [],
   "source": [
    "data0 = data0.drop(['id'], axis = 1)\n",
    "data1 = data1.drop(['id'], axis = 1)\n",
    "data2 = data2.drop(['id'], axis = 1)"
   ]
  },
  {
   "cell_type": "markdown",
   "metadata": {},
   "source": [
    "<a id='step1_last'></a>"
   ]
  },
  {
   "cell_type": "markdown",
   "metadata": {},
   "source": [
    "## Промежуточные выводы\n",
    "___\n",
    "__Представленные данные не нуждались в особой предобработке, кроме пожалуй необходимости временно удалить идентификаторы месторождений, поскольку они будут мешать обучению модели. Но при необходимости эти идентификаторы можно в последствии подтянуть по индексам.__"
   ]
  },
  {
   "cell_type": "markdown",
   "metadata": {},
   "source": [
    "<div class=\"alert alert-success\">\n",
    "<h3> Комментарий ревьювера</h3>\n",
    "\n",
    "Ты отлично владеешь методами оценки качества данных 👍🏻"
   ]
  },
  {
   "cell_type": "markdown",
   "metadata": {},
   "source": [
    "<a id='step2'></a>"
   ]
  },
  {
   "cell_type": "markdown",
   "metadata": {},
   "source": [
    "# 2. Обучение и проверка модели"
   ]
  },
  {
   "cell_type": "markdown",
   "metadata": {},
   "source": [
    "<a id='step2_1'></a>"
   ]
  },
  {
   "cell_type": "markdown",
   "metadata": {},
   "source": [
    "## 2.1. Разбиваем данные на 2 сета \n",
    "\n",
    "__Обучающий 75% / валидационный 25% согласно иструкции к выполнению проекта__\n",
    "___\n",
    "\n",
    "__Для первого региона:__\n",
    "ожидаем, что данные будут разбиты на 75 000, 25 000 соответственно."
   ]
  },
  {
   "cell_type": "code",
   "execution_count": 6,
   "metadata": {},
   "outputs": [],
   "source": [
    "data0_train, data0_valid = train_test_split(data0, test_size=0.25, random_state=12345)"
   ]
  },
  {
   "cell_type": "code",
   "execution_count": 7,
   "metadata": {},
   "outputs": [
    {
     "name": "stdout",
     "output_type": "stream",
     "text": [
      "Размерности разбитых выборок первого региона:\n",
      "(75000, 4) (25000, 4)\n"
     ]
    }
   ],
   "source": [
    "print(\"Размерности разбитых выборок первого региона:\")\n",
    "print(data0_train.shape, data0_valid.shape)"
   ]
  },
  {
   "cell_type": "markdown",
   "metadata": {},
   "source": [
    "__Для второго региона:__"
   ]
  },
  {
   "cell_type": "code",
   "execution_count": 8,
   "metadata": {},
   "outputs": [],
   "source": [
    "data1_train, data1_valid = train_test_split(data1, test_size=0.25, random_state=12345)"
   ]
  },
  {
   "cell_type": "markdown",
   "metadata": {},
   "source": [
    "__Для третьего региона:__"
   ]
  },
  {
   "cell_type": "code",
   "execution_count": 9,
   "metadata": {},
   "outputs": [],
   "source": [
    "data2_train, data2_valid = train_test_split(data2, test_size=0.25, random_state=12345)"
   ]
  },
  {
   "cell_type": "markdown",
   "metadata": {},
   "source": [
    "<div class=\"alert alert-success\">\n",
    "<h3> Комментарий ревьювера</h3>\n",
    "\n",
    "Абсолютно верно 👍🏻"
   ]
  },
  {
   "cell_type": "markdown",
   "metadata": {},
   "source": [
    "<a id='step2_2'></a>"
   ]
  },
  {
   "cell_type": "markdown",
   "metadata": {},
   "source": [
    "## 2.2. Проводим масштабирование данных \n",
    "___\n",
    "__Масштабирование данных, насколько я понимаю, больше нужно когда у нас в признаках есть категориальные признаки и нумерические. Однако (небольшой спойлер) модели прогнозируют одинаковые результаты как при дальнешем масштабировании и при его отсутствии.__\n",
    "___\n",
    "__Подготовим данные для масштабирования__"
   ]
  },
  {
   "cell_type": "code",
   "execution_count": 10,
   "metadata": {},
   "outputs": [],
   "source": [
    "numeric=['f0', 'f1', 'f2']\n",
    "scaler = StandardScaler()\n",
    "warnings.filterwarnings('ignore')"
   ]
  },
  {
   "cell_type": "markdown",
   "metadata": {},
   "source": [
    "__Для первого региона:__"
   ]
  },
  {
   "cell_type": "code",
   "execution_count": 11,
   "metadata": {},
   "outputs": [],
   "source": [
    "scaler.fit(data0_train[numeric])\n",
    "data0_train[numeric] = scaler.transform(data0_train[numeric])\n",
    "data0_valid[numeric] = scaler.transform(data0_valid[numeric])"
   ]
  },
  {
   "cell_type": "markdown",
   "metadata": {},
   "source": [
    "__Для второго региона:__"
   ]
  },
  {
   "cell_type": "code",
   "execution_count": 12,
   "metadata": {},
   "outputs": [],
   "source": [
    "scaler.fit(data1_train[numeric])\n",
    "data1_train[numeric] = scaler.transform(data1_train[numeric])\n",
    "data1_valid[numeric] = scaler.transform(data1_valid[numeric])"
   ]
  },
  {
   "cell_type": "markdown",
   "metadata": {},
   "source": [
    "__Для третьего региона:__"
   ]
  },
  {
   "cell_type": "code",
   "execution_count": 13,
   "metadata": {},
   "outputs": [],
   "source": [
    "scaler.fit(data2_train[numeric])\n",
    "data2_train[numeric] = scaler.transform(data2_train[numeric])\n",
    "data2_valid[numeric] = scaler.transform(data2_valid[numeric])"
   ]
  },
  {
   "cell_type": "markdown",
   "metadata": {},
   "source": [
    "<a id='step2_3'></a>"
   ]
  },
  {
   "cell_type": "markdown",
   "metadata": {},
   "source": [
    "## 2.3. Выделим признаки и целевой признак"
   ]
  },
  {
   "cell_type": "markdown",
   "metadata": {},
   "source": [
    "__Для первого региона:__"
   ]
  },
  {
   "cell_type": "code",
   "execution_count": 14,
   "metadata": {},
   "outputs": [],
   "source": [
    "target_train0 = data0_train['product']\n",
    "features_train0 = data0_train.drop('product', axis = 1)\n",
    "target_valid0 = data0_valid['product']\n",
    "features_valid0 = data0_valid.drop('product', axis = 1)"
   ]
  },
  {
   "cell_type": "markdown",
   "metadata": {},
   "source": [
    "__Для второго региона:__"
   ]
  },
  {
   "cell_type": "code",
   "execution_count": 15,
   "metadata": {},
   "outputs": [],
   "source": [
    "target_train1 = data1_train['product']\n",
    "features_train1 = data1_train.drop('product', axis = 1)\n",
    "target_valid1 = data1_valid['product']\n",
    "features_valid1 = data1_valid.drop('product', axis = 1)"
   ]
  },
  {
   "cell_type": "markdown",
   "metadata": {},
   "source": [
    "__Для третьего региона:__"
   ]
  },
  {
   "cell_type": "code",
   "execution_count": 16,
   "metadata": {},
   "outputs": [],
   "source": [
    "target_train2 = data2_train['product']\n",
    "features_train2 = data2_train.drop('product', axis = 1)\n",
    "target_valid2 = data2_valid['product']\n",
    "features_valid2 = data2_valid.drop('product', axis = 1)"
   ]
  },
  {
   "cell_type": "markdown",
   "metadata": {},
   "source": [
    "<div class=\"alert alert-success\">\n",
    "<h3> Комментарий ревьювера</h3>\n",
    "\n",
    "Разбиение на выборки выполнено корректно 👍🏻"
   ]
  },
  {
   "cell_type": "markdown",
   "metadata": {},
   "source": [
    "<a id='step2_4'></a>"
   ]
  },
  {
   "cell_type": "markdown",
   "metadata": {},
   "source": [
    "## 2.4. Обучим модели и сделаем предсказание для каждого региона"
   ]
  },
  {
   "cell_type": "code",
   "execution_count": 17,
   "metadata": {},
   "outputs": [],
   "source": [
    "model = LinearRegression()"
   ]
  },
  {
   "cell_type": "code",
   "execution_count": 18,
   "metadata": {},
   "outputs": [],
   "source": [
    "model.fit(features_train0, target_train0)\n",
    "prediction_data0 = model.predict(features_valid0)"
   ]
  },
  {
   "cell_type": "code",
   "execution_count": 19,
   "metadata": {},
   "outputs": [],
   "source": [
    "model.fit(features_train1, target_train1)\n",
    "prediction_data1 = model.predict(features_valid1)"
   ]
  },
  {
   "cell_type": "code",
   "execution_count": 20,
   "metadata": {},
   "outputs": [],
   "source": [
    "model.fit(features_train2, target_train2)\n",
    "prediction_data2 = model.predict(features_valid2)"
   ]
  },
  {
   "cell_type": "markdown",
   "metadata": {},
   "source": [
    "<a id='step2_5'></a>"
   ]
  },
  {
   "cell_type": "markdown",
   "metadata": {},
   "source": [
    "## 2.5. Оценим качество моделей"
   ]
  },
  {
   "cell_type": "markdown",
   "metadata": {},
   "source": [
    "__Первый регион__"
   ]
  },
  {
   "cell_type": "code",
   "execution_count": 21,
   "metadata": {},
   "outputs": [
    {
     "name": "stdout",
     "output_type": "stream",
     "text": [
      "R2 - модели: 0.27994321524487786\n",
      "MAE - модели: 30.919600777151313\n",
      "RMSE - модели: 37.5794217150813\n",
      "-----------------------------------\n",
      "Средний предсказанный запас сырья: 92.59256778438038\n",
      "Фактический средний запас: 92.07859674082927\n"
     ]
    }
   ],
   "source": [
    "data0_mae = mean_absolute_error(target_valid0, prediction_data0)\n",
    "data0_r2 = r2_score(target_valid0, prediction_data0)\n",
    "data0_RMSE = (mean_squared_error(target_valid0, prediction_data0)) ** 0.5\n",
    "\n",
    "print(\"R2 - модели:\", data0_r2)\n",
    "print(\"MAE - модели:\", data0_mae)\n",
    "print(\"RMSE - модели:\", data0_RMSE)\n",
    "print(\"-----------------------------------\")\n",
    "print(\"Средний предсказанный запас сырья:\", prediction_data0.mean())\n",
    "print(\"Фактический средний запас:\", target_valid0.mean())"
   ]
  },
  {
   "cell_type": "markdown",
   "metadata": {},
   "source": [
    "__Второй регион__"
   ]
  },
  {
   "cell_type": "code",
   "execution_count": 22,
   "metadata": {},
   "outputs": [
    {
     "name": "stdout",
     "output_type": "stream",
     "text": [
      "R2 - модели: 0.9996233978805127\n",
      "MAE - модели: 0.718766244212475\n",
      "RMSE - модели: 0.8930992867756158\n",
      "-----------------------------------\n",
      "Средний предсказанный запас сырья: 68.728546895446\n",
      "Фактический средний запас: 68.72313602435997\n"
     ]
    }
   ],
   "source": [
    "data1_mae = mean_absolute_error(target_valid1, prediction_data1)\n",
    "data1_r2 = r2_score(target_valid1, prediction_data1)\n",
    "data1_RMSE = (mean_squared_error(target_valid1, prediction_data1)) ** 0.5\n",
    "\n",
    "print(\"R2 - модели:\", data1_r2)\n",
    "print(\"MAE - модели:\", data1_mae)\n",
    "print(\"RMSE - модели:\", data1_RMSE)\n",
    "print(\"-----------------------------------\")\n",
    "print(\"Средний предсказанный запас сырья:\", prediction_data1.mean())\n",
    "print(\"Фактический средний запас:\", target_valid1.mean())"
   ]
  },
  {
   "cell_type": "markdown",
   "metadata": {},
   "source": [
    "__Третий регион__"
   ]
  },
  {
   "cell_type": "code",
   "execution_count": 23,
   "metadata": {},
   "outputs": [
    {
     "name": "stdout",
     "output_type": "stream",
     "text": [
      "R2 - модели: 0.20524758386040443\n",
      "MAE - модели: 32.792652105481814\n",
      "RMSE - модели: 40.02970873393434\n",
      "-----------------------------------\n",
      "Средний предсказанный запас сырья: 94.96504596800489\n",
      "Фактический средний запас: 94.88423280885438\n"
     ]
    }
   ],
   "source": [
    "data2_mae = mean_absolute_error(target_valid2, prediction_data2)\n",
    "data2_r2 = r2_score(target_valid2, prediction_data2)\n",
    "data2_RMSE = (mean_squared_error(target_valid2, prediction_data2)) ** 0.5\n",
    "\n",
    "print(\"R2 - модели:\", data2_r2)\n",
    "print(\"MAE - модели:\", data2_mae)\n",
    "print(\"RMSE - модели:\", data2_RMSE)\n",
    "print(\"-----------------------------------\")\n",
    "print(\"Средний предсказанный запас сырья:\", prediction_data2.mean())\n",
    "print(\"Фактический средний запас:\", target_valid2.mean())"
   ]
  },
  {
   "cell_type": "markdown",
   "metadata": {},
   "source": [
    "<a id='step2_last'></a>"
   ]
  },
  {
   "cell_type": "markdown",
   "metadata": {},
   "source": [
    "## Промежуточные выводы\n",
    "___\n",
    "__Качество у трех модели для трех регионов оказалось совершенно разным, так коэффициент детерминации (R2) зашкаливает для второго региона (0.999) и в целом схож для первого и третьего регионов (по 0.279 и 0.205 соответственно), также ведут себя и показатели MAE и RMSE.__\n",
    "\n",
    "__При этом средние запасы сырья предсказанные и фактические весьма схожи. Делаем вывод, что в целом наши модели работают лучше чем просто подстановка среднего значения.__"
   ]
  },
  {
   "cell_type": "markdown",
   "metadata": {},
   "source": [
    "<div class=\"alert alert-success\">\n",
    "<h3> Комментарий ревьювера</h3>\n",
    "\n",
    "Обучение выполнено верно 👍🏻"
   ]
  },
  {
   "cell_type": "markdown",
   "metadata": {},
   "source": [
    "<a id='step3'></a>"
   ]
  },
  {
   "cell_type": "markdown",
   "metadata": {},
   "source": [
    "# 3. Подготовка к расчёту прибыли"
   ]
  },
  {
   "cell_type": "markdown",
   "metadata": {},
   "source": [
    "<a id='step3_1'></a>"
   ]
  },
  {
   "cell_type": "markdown",
   "metadata": {},
   "source": [
    "## 3.1. Сохраним ключевые значения в отдельные переменные"
   ]
  },
  {
   "cell_type": "markdown",
   "metadata": {},
   "source": [
    "1. При разведке региона исследуют 500 точек, из которых выбирают 200 лучших для расчёта прибыли.\n",
    "1. Бюджет на разработку скважин в регионе — 10 млрд рублей.\n",
    "1. Один баррель сырья приносит 450 рублей дохода. Доход с каждой единицы продукта составляет 450 тыс. рублей, поскольку объём указан в тысячах баррелей.\n",
    "1. После оценки рисков нужно оставить лишь те регионы, в которых вероятность убытков меньше 2.5%. Среди них выбирают регион с наибольшей средней прибылью."
   ]
  },
  {
   "cell_type": "code",
   "execution_count": 24,
   "metadata": {},
   "outputs": [],
   "source": [
    "NUMBER_OF_WELLS = 500\n",
    "NUMBER_OF_WELLS_TOP = 200\n",
    "BUDGET = 10 * (10**9)\n",
    "REVENUE_PER_BARREL = 450\n",
    "REVENUE_PER_PRODUCT = REVENUE_PER_BARREL * 1000\n",
    "LOSS_PROB = 0.025"
   ]
  },
  {
   "cell_type": "markdown",
   "metadata": {},
   "source": [
    "__Подготовим небольшой датафрейм для более легкого сравнения всех результатов в дальнейшем__"
   ]
  },
  {
   "cell_type": "code",
   "execution_count": 25,
   "metadata": {},
   "outputs": [],
   "source": [
    "comparison = pd.DataFrame({\"region\": ['region1', 'region2', 'region3'],\n",
    "                           \"product_average_forecasted_per_well\": ['', '', ''],\n",
    "                           \"profit_mean_validated\": ['', '', ''],\n",
    "                           \"lower_profit_boundary\": ['', '', ''],\n",
    "                           \"upper_profit_boundary\": ['', '', ''],\n",
    "                           \"loose_prob\": ['', '', ''],\n",
    "                           \"product_amount_in_top_wells_validated\": ['', '', '']\n",
    "                          })"
   ]
  },
  {
   "cell_type": "markdown",
   "metadata": {},
   "source": [
    "<a id='step3_2'></a>"
   ]
  },
  {
   "cell_type": "markdown",
   "metadata": {},
   "source": [
    "## 3.2. Расчитаем достаточный объем сырья для безубыточной разработки скважин\n",
    "___\n",
    "__Нам нужно вычислить такой объем, который покроет затраты в 10 млрд рублей__"
   ]
  },
  {
   "cell_type": "code",
   "execution_count": 26,
   "metadata": {},
   "outputs": [],
   "source": [
    "BREAK_EVEN_PRODUCTION = np.ceil(BUDGET / REVENUE_PER_PRODUCT)"
   ]
  },
  {
   "cell_type": "code",
   "execution_count": 27,
   "metadata": {},
   "outputs": [
    {
     "name": "stdout",
     "output_type": "stream",
     "text": [
      "Объем производства с месторождения для выхода на безубыточность (тыс. баррелей): 22223.0\n"
     ]
    }
   ],
   "source": [
    "print(\"Объем производства с месторождения для выхода на безубыточность (тыс. баррелей):\", BREAK_EVEN_PRODUCTION)"
   ]
  },
  {
   "cell_type": "code",
   "execution_count": 28,
   "metadata": {},
   "outputs": [
    {
     "name": "stdout",
     "output_type": "stream",
     "text": [
      "Объем производства с одной скважины для выхода на безубыточность (тыс. баррелей): 111.115\n",
      "Прогноз среднего запаса (тыс. баррелей) на скважину в первом, втором и третьем регионах соответственно: 92.59, 68.73, 94.97\n"
     ]
    }
   ],
   "source": [
    "print(\"Объем производства с одной скважины для выхода на безубыточность (тыс. баррелей):\", BREAK_EVEN_PRODUCTION / NUMBER_OF_WELLS_TOP)\n",
    "print(\"Прогноз среднего запаса (тыс. баррелей) на скважину в первом, втором и третьем регионах соответственно: {:.2f}, {:.2f}, {:.2f}\".format(prediction_data0.mean(), prediction_data1.mean(), prediction_data2.mean()))"
   ]
  },
  {
   "cell_type": "code",
   "execution_count": 29,
   "metadata": {},
   "outputs": [],
   "source": [
    "comparison['product_average_forecasted_per_well'] = [prediction_data0.mean(), prediction_data1.mean(), prediction_data2.mean()]"
   ]
  },
  {
   "cell_type": "markdown",
   "metadata": {},
   "source": [
    "<a id='step3_last'></a>"
   ]
  },
  {
   "cell_type": "markdown",
   "metadata": {},
   "source": [
    "## Промежуточные выводы\n",
    "___\n",
    "__Мы подсчитали, что на все месторождение должно приходиться не менее 22 223 тысяч баррелей продукта, чтобы мы говорили о безубыточном производстве. В переводе на 200 разрабатываемых скважин это порядка 111 тысяч баррелей на одну скважину, при том, что средний прогнозируемый запас в одной скважине существенно ниже - а во второй так сильно ниже точки безубыточности.__"
   ]
  },
  {
   "cell_type": "markdown",
   "metadata": {},
   "source": [
    "<div class=\"alert alert-success\">\n",
    "<h3> Комментарий ревьювера</h3>\n",
    "\n",
    "Значение посчитано верно 👍🏻"
   ]
  },
  {
   "cell_type": "markdown",
   "metadata": {},
   "source": [
    "<a id='step4'></a>"
   ]
  },
  {
   "cell_type": "markdown",
   "metadata": {},
   "source": [
    "# 4. Расчёт прибыли и рисков "
   ]
  },
  {
   "cell_type": "markdown",
   "metadata": {},
   "source": [
    "<a id='step4_1'></a>"
   ]
  },
  {
   "cell_type": "markdown",
   "metadata": {},
   "source": [
    "## 4.1. Напишем функцию для расчета прибыли по выбранным скважинам"
   ]
  },
  {
   "cell_type": "code",
   "execution_count": 30,
   "metadata": {},
   "outputs": [],
   "source": [
    "def profit_calc(budget, revenue_per_product, wells_number, prediction, target):\n",
    "    prediction = prediction.sort_values(ascending=False)\n",
    "    selected = target[prediction.index][:wells_number]\n",
    "    result =  selected.sum() * revenue_per_product - budget\n",
    "    return(result)"
   ]
  },
  {
   "cell_type": "markdown",
   "metadata": {},
   "source": [
    "<div class=\"alert alert-success\">\n",
    "<h3> Комментарий ревьювера</h3>\n",
    "\n",
    "Функция написана правильно 👍🏻"
   ]
  },
  {
   "cell_type": "markdown",
   "metadata": {},
   "source": [
    "<a id='step4_2'></a>"
   ]
  },
  {
   "cell_type": "markdown",
   "metadata": {},
   "source": [
    "## 4.2. Выберем скважины с максимальными значениями предсказаний"
   ]
  },
  {
   "cell_type": "markdown",
   "metadata": {},
   "source": [
    "__Оформим предсказания в виде pd.Series для удобства__"
   ]
  },
  {
   "cell_type": "code",
   "execution_count": 31,
   "metadata": {},
   "outputs": [],
   "source": [
    "prediction_data0, prediction_data1, prediction_data2  = pd.Series(prediction_data0), pd.Series(prediction_data1), pd.Series(prediction_data2)"
   ]
  },
  {
   "cell_type": "markdown",
   "metadata": {},
   "source": [
    "__Проведем перенумерацию индексов в массивах `target_valid`, чтобы потом можно было подцепить по индексу прогноз топовых скважин__"
   ]
  },
  {
   "cell_type": "code",
   "execution_count": 32,
   "metadata": {},
   "outputs": [],
   "source": [
    "target_valid0 = target_valid0.reset_index(drop=True)\n",
    "target_valid1 = target_valid1.reset_index(drop=True)\n",
    "target_valid2 = target_valid2.reset_index(drop=True)"
   ]
  },
  {
   "cell_type": "markdown",
   "metadata": {},
   "source": [
    "<a id='step4_3'></a>"
   ]
  },
  {
   "cell_type": "markdown",
   "metadata": {},
   "source": [
    "## 4.3. Расчитаем прибыль для полученного объема сырья\n",
    "___\n",
    "__Это совершенно условный расчет, чтобы понять как работает функция написанная выше__"
   ]
  },
  {
   "cell_type": "code",
   "execution_count": 33,
   "metadata": {},
   "outputs": [],
   "source": [
    "profit_data0 = profit_calc(BUDGET, REVENUE_PER_PRODUCT, NUMBER_OF_WELLS_TOP, prediction_data0, target_valid0)\n",
    "profit_data1 = profit_calc(BUDGET, REVENUE_PER_PRODUCT, NUMBER_OF_WELLS_TOP, prediction_data1, target_valid1)\n",
    "profit_data2 = profit_calc(BUDGET, REVENUE_PER_PRODUCT, NUMBER_OF_WELLS_TOP, prediction_data2, target_valid2)"
   ]
  },
  {
   "cell_type": "code",
   "execution_count": 34,
   "metadata": {},
   "outputs": [
    {
     "name": "stdout",
     "output_type": "stream",
     "text": [
      "Ожидаемая прибыль с первого участка если бы мы исследовали все скважины месторождения и выбрали из них топ-200, млрд. руб. 3.32\n",
      "Ожидаемая прибыль со второго участка, млрд. руб. 2.42\n",
      "Ожидаемая прибыль с третьего участка, млрд. руб. 2.71\n"
     ]
    }
   ],
   "source": [
    "print(\"Ожидаемая прибыль с первого участка если бы мы исследовали все скважины месторождения и выбрали из них топ-200, млрд. руб. {:.2f}\".format(profit_data0 / (10**9)))\n",
    "print(\"Ожидаемая прибыль со второго участка, млрд. руб. {:.2f}\".format(profit_data1 / (10**9)))\n",
    "print(\"Ожидаемая прибыль с третьего участка, млрд. руб. {:.2f}\".format(profit_data2 / (10**9)))"
   ]
  },
  {
   "cell_type": "markdown",
   "metadata": {},
   "source": [
    "__Эти данные немного бесполезные, но все равно мы не можем их использовать в принятии решения, иначе это жульничество. В реальности эти данные не были бы доступны до начала разработки скважин.__"
   ]
  },
  {
   "cell_type": "markdown",
   "metadata": {},
   "source": [
    "<div class=\"alert alert-success\">\n",
    "<h3> Комментарий ревьювера</h3>\n",
    "\n",
    "Все верно 👍🏻"
   ]
  },
  {
   "cell_type": "markdown",
   "metadata": {},
   "source": [
    "<a id='step4_4'></a>"
   ]
  },
  {
   "cell_type": "markdown",
   "metadata": {},
   "source": [
    "## 4.4. Применим `Bootstrap`, чтобы найти распределение прибыли и рисков"
   ]
  },
  {
   "cell_type": "code",
   "execution_count": 35,
   "metadata": {},
   "outputs": [],
   "source": [
    "state = np.random.RandomState(12345)"
   ]
  },
  {
   "cell_type": "markdown",
   "metadata": {},
   "source": [
    "__Для первого региона__"
   ]
  },
  {
   "cell_type": "code",
   "execution_count": 36,
   "metadata": {},
   "outputs": [],
   "source": [
    "values = []\n",
    "values_product = []\n",
    "\n",
    "for i in range(1000):\n",
    "    prediction_sample = prediction_data0.sample(NUMBER_OF_WELLS, replace=True, random_state=state)\n",
    "    valid_sample = target_valid0[prediction_sample.index]\n",
    "    values_product.append(valid_sample.sort_values(ascending=False)[:NUMBER_OF_WELLS_TOP].sum())\n",
    "    profit_sample = profit_calc(BUDGET, REVENUE_PER_PRODUCT, NUMBER_OF_WELLS_TOP, prediction_sample, valid_sample)\n",
    "    values.append(profit_sample)\n",
    "\n",
    "values = pd.Series(values)\n",
    "values_product = pd.Series(values_product)"
   ]
  },
  {
   "cell_type": "code",
   "execution_count": 37,
   "metadata": {},
   "outputs": [
    {
     "name": "stdout",
     "output_type": "stream",
     "text": [
      "----- Данные по потенциальной доходности региона №1 ------\n",
      "\n",
      "Средняя прибыль, млрд. руб.: 0.43\n",
      "Нижняя граница доверительного интервала 2.5%: -0.10\n",
      "Верхняя граница доверительного интервала 97.5%: 0.95\n",
      "Риск убытков, %: 6.0\n",
      "Суммарный выход продукта с месторождения (200 скважин), тыс. баррелей: 27461.59\n",
      "Справочно! Безубыточный выход продукта: 22223.0\n"
     ]
    }
   ],
   "source": [
    "mean = values.mean()\n",
    "upper = values.quantile(0.975)\n",
    "lower = values.quantile(0.025)\n",
    "loose_prob = stats.percentileofscore(values, 0*(10**9), kind='strict')\n",
    "\n",
    "comparison.loc[0, 'profit_mean_validated'] = (mean/(10**9))\n",
    "comparison.loc[0, 'lower_profit_boundary'] = (lower/(10**9))\n",
    "comparison.loc[0, 'upper_profit_boundary'] = (upper/(10**9))\n",
    "comparison.loc[0, 'product_amount_in_top_wells_validated'] = values_product.mean()\n",
    "comparison.loc[0, 'loose_prob'] = loose_prob\n",
    "\n",
    "print(\"----- Данные по потенциальной доходности региона №1 ------\")\n",
    "print()\n",
    "print(\"Средняя прибыль, млрд. руб.: {:.2f}\".format(mean/(10**9)))\n",
    "print(\"Нижняя граница доверительного интервала 2.5%: {:.2f}\".format(lower/(10**9)))\n",
    "print(\"Верхняя граница доверительного интервала 97.5%: {:.2f}\".format(upper/(10**9)))\n",
    "print(\"Риск убытков, %:\", loose_prob)\n",
    "print(\"Суммарный выход продукта с месторождения (200 скважин), тыс. баррелей: {:.2f}\".format(values_product.mean()))\n",
    "print(\"Справочно! Безубыточный выход продукта:\", BREAK_EVEN_PRODUCTION)"
   ]
  },
  {
   "cell_type": "markdown",
   "metadata": {},
   "source": [
    "__Для второго региона__"
   ]
  },
  {
   "cell_type": "code",
   "execution_count": 38,
   "metadata": {},
   "outputs": [],
   "source": [
    "values = []\n",
    "values_product = []\n",
    "\n",
    "for i in range(1000):\n",
    "    prediction_sample = prediction_data1.sample(NUMBER_OF_WELLS, replace=True, random_state=state)\n",
    "    valid_sample = target_valid1[prediction_sample.index]\n",
    "    values_product.append(valid_sample.sort_values(ascending=False)[:NUMBER_OF_WELLS_TOP].sum())\n",
    "    profit_sample = profit_calc(BUDGET, REVENUE_PER_PRODUCT, NUMBER_OF_WELLS_TOP, prediction_sample, valid_sample)\n",
    "    values.append(profit_sample)\n",
    "\n",
    "values = pd.Series(values)\n",
    "values_product = pd.Series(values_product)"
   ]
  },
  {
   "cell_type": "code",
   "execution_count": 39,
   "metadata": {},
   "outputs": [
    {
     "name": "stdout",
     "output_type": "stream",
     "text": [
      "----- Данные по потенциальной доходности региона №2 ------\n",
      "\n",
      "Средняя прибыль, млрд. руб.: 0.52\n",
      "Нижняя граница доверительного интервала 2.5%: 0.13\n",
      "Верхняя граница доверительного интервала 97.5%: 0.95\n",
      "Риск убытков, %: 0.3\n",
      "Суммарный выход продукта с месторождения (200 скважин), тыс. баррелей: 23250.05\n",
      "Справочно! Безубыточный выход продукта: 22223.0\n"
     ]
    }
   ],
   "source": [
    "mean = values.mean()\n",
    "upper = values.quantile(0.975)\n",
    "lower = values.quantile(0.025)\n",
    "loose_prob = stats.percentileofscore(values, 0*(10**9), kind='strict')\n",
    "\n",
    "comparison.loc[1, 'profit_mean_validated'] = (mean/(10**9))\n",
    "comparison.loc[1, 'lower_profit_boundary'] = (lower/(10**9))\n",
    "comparison.loc[1, 'upper_profit_boundary'] = (upper/(10**9))\n",
    "comparison.loc[1, 'product_amount_in_top_wells_validated'] = values_product.mean()\n",
    "comparison.loc[1, 'loose_prob'] = loose_prob\n",
    "\n",
    "print(\"----- Данные по потенциальной доходности региона №2 ------\")\n",
    "print()\n",
    "print(\"Средняя прибыль, млрд. руб.: {:.2f}\".format(mean/(10**9)))\n",
    "print(\"Нижняя граница доверительного интервала 2.5%: {:.2f}\".format(lower/(10**9)))\n",
    "print(\"Верхняя граница доверительного интервала 97.5%: {:.2f}\".format(upper/(10**9)))\n",
    "print(\"Риск убытков, %:\", loose_prob)\n",
    "print(\"Суммарный выход продукта с месторождения (200 скважин), тыс. баррелей: {:.2f}\".format(values_product.mean()))\n",
    "print(\"Справочно! Безубыточный выход продукта:\", BREAK_EVEN_PRODUCTION)"
   ]
  },
  {
   "cell_type": "markdown",
   "metadata": {},
   "source": [
    "__Для третьего региона__"
   ]
  },
  {
   "cell_type": "code",
   "execution_count": 40,
   "metadata": {},
   "outputs": [],
   "source": [
    "values = []\n",
    "values_product = []\n",
    "\n",
    "for i in range(1000):\n",
    "    prediction_sample = prediction_data2.sample(NUMBER_OF_WELLS, replace=True, random_state=state)\n",
    "    valid_sample = target_valid2[prediction_sample.index]\n",
    "    values_product.append(valid_sample.sort_values(ascending=False)[:NUMBER_OF_WELLS_TOP].sum())\n",
    "    profit_sample = profit_calc(BUDGET, REVENUE_PER_PRODUCT, NUMBER_OF_WELLS_TOP, prediction_sample, valid_sample)\n",
    "    values.append(profit_sample)\n",
    "\n",
    "values = pd.Series(values)\n",
    "values_product = pd.Series(values_product)"
   ]
  },
  {
   "cell_type": "code",
   "execution_count": 41,
   "metadata": {},
   "outputs": [
    {
     "name": "stdout",
     "output_type": "stream",
     "text": [
      "----- Данные по потенциальной доходности региона №3 ------\n",
      "\n",
      "Средняя прибыль, млрд. руб.: 0.42\n",
      "Нижняя граница доверительного интервала 2.5%: -0.12\n",
      "Верхняя граница доверительного интервала 97.5%: 0.99\n",
      "Риск убытков, %: 6.2\n",
      "Суммарный выход продукта с месторождения (200 скважин), тыс. баррелей: 28059.09\n",
      "Справочно! Безубыточный выход продукта: 22223.0\n"
     ]
    }
   ],
   "source": [
    "mean = values.mean()\n",
    "upper = values.quantile(0.975)\n",
    "lower = values.quantile(0.025)\n",
    "loose_prob = stats.percentileofscore(values, 0*(10**9), kind='strict')\n",
    "\n",
    "comparison.loc[2, 'profit_mean_validated'] = (mean/(10**9))\n",
    "comparison.loc[2, 'lower_profit_boundary'] = (lower/(10**9))\n",
    "comparison.loc[2, 'upper_profit_boundary'] = (upper/(10**9))\n",
    "comparison.loc[2, 'product_amount_in_top_wells_validated'] = values_product.mean()\n",
    "comparison.loc[2, 'loose_prob'] = loose_prob\n",
    "\n",
    "print(\"----- Данные по потенциальной доходности региона №3 ------\")\n",
    "print()\n",
    "print(\"Средняя прибыль, млрд. руб.: {:.2f}\".format(mean/(10**9)))\n",
    "print(\"Нижняя граница доверительного интервала 2.5%: {:.2f}\".format(lower/(10**9)))\n",
    "print(\"Верхняя граница доверительного интервала 97.5%: {:.2f}\".format(upper/(10**9)))\n",
    "print(\"Риск убытков, %:\", loose_prob)\n",
    "print(\"Суммарный выход продукта с месторождения (200 скважин), тыс. баррелей: {:.2f}\".format(values_product.mean()))\n",
    "print(\"Справочно! Безубыточный выход продукта:\", BREAK_EVEN_PRODUCTION)"
   ]
  },
  {
   "cell_type": "markdown",
   "metadata": {},
   "source": [
    "<div class=\"alert alert-success\">\n",
    "<h3> Комментарий ревьювера</h3>\n",
    "\n",
    "Согласна с полученными результатами 👍🏻"
   ]
  },
  {
   "cell_type": "markdown",
   "metadata": {},
   "source": [
    "<div class=\"alert alert-danger\">\n",
    "<h3> Комментарий ревьювера</h3>\n",
    "\n",
    "Нужно еще просчитать риск убытков в процентах. Добавь, пожалуйста :)"
   ]
  },
  {
   "cell_type": "markdown",
   "metadata": {},
   "source": [
    "<div class=\"alert alert-block alert-info\">\n",
    "<b>КОММЕНТАРИЙ СТУДЕНТА:Полина, спасибо что обратила внимание. Я сейчас сообразил, что тот персентиль начиная с которого для месторождения получается 0-левая прибыль покрывает как раз вероятность риска. Использовал функцию `stats.percentileofscore`, чтобы посчитать вероятность соответсвующую нулевой прибыли. Дополнил свою таблицу сравнения и вывел на печать выше. Надеюсь правильно :) </b>\n",
    "</div>"
   ]
  },
  {
   "cell_type": "markdown",
   "metadata": {},
   "source": [
    "<div class=\"alert alert-success\">\n",
    "<h3> Комментарий ревьювера v2</h3>\n",
    "\n",
    "Супер 👍🏻"
   ]
  },
  {
   "cell_type": "markdown",
   "metadata": {},
   "source": [
    "<a id='step4_5'></a>"
   ]
  },
  {
   "cell_type": "markdown",
   "metadata": {},
   "source": [
    "## 4.5. Сравним экономику месторождений"
   ]
  },
  {
   "cell_type": "code",
   "execution_count": 42,
   "metadata": {},
   "outputs": [
    {
     "name": "stdout",
     "output_type": "stream",
     "text": [
      "----------------Сравнение показателей 3х месторождений-------------------\n",
      "\n",
      "    region  product_average_forecasted_per_well profit_mean_validated  \\\n",
      "0  region1                            92.592568              0.425939   \n",
      "1  region2                            68.728547              0.518259   \n",
      "2  region3                            94.965046              0.420194   \n",
      "\n",
      "  lower_profit_boundary upper_profit_boundary loose_prob  \\\n",
      "0              -0.10209              0.947976          6   \n",
      "1              0.128123              0.953613        0.3   \n",
      "2             -0.115853               0.98963        6.2   \n",
      "\n",
      "  product_amount_in_top_wells_validated  \n",
      "0                               27461.6  \n",
      "1                                 23250  \n",
      "2                               28059.1  \n"
     ]
    }
   ],
   "source": [
    "print(\"----------------Сравнение показателей 3х месторождений-------------------\")\n",
    "print()\n",
    "print(comparison)"
   ]
  },
  {
   "cell_type": "code",
   "execution_count": 43,
   "metadata": {},
   "outputs": [],
   "source": [
    "predictions_data_combined = pd.DataFrame()\n",
    "predictions_data_combined['region1'] = prediction_data0\n",
    "predictions_data_combined['region2'] = prediction_data1\n",
    "predictions_data_combined['region3'] = prediction_data2"
   ]
  },
  {
   "cell_type": "code",
   "execution_count": 44,
   "metadata": {},
   "outputs": [
    {
     "data": {
      "text/plain": [
       "Text(0, 0.5, 'Количество скважин с указанным объемом продукции')"
      ]
     },
     "execution_count": 44,
     "metadata": {},
     "output_type": "execute_result"
    },
    {
     "data": {
      "image/png": "[encoded data removed]",
      "text/plain": [
       "<Figure size 864x432 with 1 Axes>"
      ]
     },
     "metadata": {
      "needs_background": "light"
     },
     "output_type": "display_data"
    }
   ],
   "source": [
    "predictions_data_combined.plot(kind = 'hist', alpha = 0.5, figsize = (12,6), title = 'Рис. 1: Разброс прогноза продукции по скважинам регионов, тысяч. тонн')\n",
    "plt.xlabel('Прогноз продукции на скважину, тысяч баррелей в среднем')\n",
    "plt.ylabel('Количество скважин с указанным объемом продукции')"
   ]
  },
  {
   "cell_type": "markdown",
   "metadata": {},
   "source": [
    "<a id='step_last'></a>"
   ]
  },
  {
   "cell_type": "markdown",
   "metadata": {},
   "source": [
    "# Выводы и рекомендации\n",
    "___\n",
    "__Исходя из проведенного анализа мы можем сделать следующие выводы:__\n",
    "1. Наибольшая средняя прибыль в 0.51 млрд рублей достигается во втором месторождении, кроме того на этом месторождении нет рисков убытков (по прогнозу), но самое низкое среднее количество продукта приходящееся на одну скважину. При этом на данном месторождении разброс производительности скважин самый большой, что мы видим на гистограмме выше. Но это уже получается чистой воды случай - как повезет с первыми 500 скважинами и возможно мы попадем как раз на те скважины что аккумулируются вокруг нулевых запасов.\n",
    "1. Регион 3 в противовес обладает наибольшей потенциальной границей прибыли и `upper boundary`, но и самыми высокими прогнозируемыми запасам на одну скважину в ~94.96 тысяч баррелей продукции.\n",
    "\n",
    "__Мы рекомендуем к разработке в первую очередь регион 3, затем регион 1 и в последнюю очередь регион 2, хотя ни одни из регионов не превышает значения точки безубыточности для отдельно взятой скважины в 111 тысяч баррелей, при оценке по прогнозным данным модели.__"
   ]
  },
  {
   "cell_type": "markdown",
   "metadata": {},
   "source": [
    "# Чек-лист готовности проекта"
   ]
  },
  {
   "cell_type": "markdown",
   "metadata": {},
   "source": [
    "Поставьте 'x' в выполненных пунктах. Далее нажмите Shift+Enter."
   ]
  },
  {
   "cell_type": "markdown",
   "metadata": {},
   "source": [
    "- [x]  Jupyter Notebook открыт\n",
    "- [x]  Весь код выполняется без ошибок\n",
    "- [x]  Ячейки с кодом расположены в порядке исполнения\n",
    "- [x]  Выполнен шаг 1: данные подготовлены\n",
    "- [x]  Выполнен шаг 2: модели обучены и проверены\n",
    "    - [x]  Данные корректно разбиты на обучающую и валидационную выборки\n",
    "    - [x]  Модели обучены, предсказания сделаны\n",
    "    - [x]  Предсказания и правильные ответы на валидационной выборке сохранены\n",
    "    - [x]  На экране напечатаны результаты\n",
    "    - [x]  Сделаны выводы\n",
    "- [x]  Выполнен шаг 3: проведена подготовка к расчёту прибыли\n",
    "    - [x]  Для всех ключевых значений созданы константы Python\n",
    "    - [x]  Посчитано минимальное среднее количество продукта в месторождениях региона, достаточное для разработки\n",
    "    - [x]  По предыдущему пункту сделаны выводы\n",
    "    - [x]  Написана функция расчёта прибыли\n",
    "- [x]  Выполнен шаг 4: посчитаны риски и прибыль\n",
    "    - [x]  Проведена процедура *Bootstrap*\n",
    "    - [x]  Все параметры бутстрепа соответствуют условию\n",
    "    - [x]  Найдены все нужные величины\n",
    "    - [x]  Предложен регион для разработки месторождения\n",
    "    - [x]  Выбор региона обоснован"
   ]
  },
  {
   "cell_type": "markdown",
   "metadata": {},
   "source": [
    "<div style=\"border:solid black 2px; padding: 20px\">\n",
    "<h3>Чек-лист доработок</h3>\n",
    "\n",
    "Давай добавим расчет рисков, и можно принимать проект. Он уже на высоте! Ты молодец!\n",
    "\n",
    "Жду на повторное ревью. Не стесняйся оставлять комментарии и задавать вопросы. Удачи! Все получится 🙂\n",
    "\n",
    "</div>"
   ]
  }
 ],
 "metadata": {
  "kernelspec": {
   "display_name": "Python 3",
   "language": "python",
   "name": "python3"
  },
  "language_info": {
   "codemirror_mode": {
    "name": "ipython",
    "version": 3
   },
   "file_extension": ".py",
   "mimetype": "text/x-python",
   "name": "python",
   "nbconvert_exporter": "python",
   "pygments_lexer": "ipython3",
   "version": "3.7.6"
  }
 },
 "nbformat": 4,
 "nbformat_minor": 2
}
